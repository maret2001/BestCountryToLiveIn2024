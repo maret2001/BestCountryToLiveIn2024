{
 "cells": [
  {
   "cell_type": "markdown",
   "id": "d0561c81",
   "metadata": {
    "papermill": {
     "duration": 0.01181,
     "end_time": "2024-01-14T14:03:39.915884",
     "exception": false,
     "start_time": "2024-01-14T14:03:39.904074",
     "status": "completed"
    },
    "tags": []
   },
   "source": [
    "# Ignasius Maret Ismoyo"
   ]
  },
  {
   "cell_type": "markdown",
   "id": "63e13e4c",
   "metadata": {
    "papermill": {
     "duration": 0.010889,
     "end_time": "2024-01-14T14:03:39.938144",
     "exception": false,
     "start_time": "2024-01-14T14:03:39.927255",
     "status": "completed"
    },
    "tags": []
   },
   "source": [
    "# -----------------------------------------------\n",
    "# Import Library"
   ]
  },
  {
   "cell_type": "code",
   "execution_count": 1,
   "id": "1c007afa",
   "metadata": {
    "_cell_guid": "b1076dfc-b9ad-4769-8c92-a6c4dae69d19",
    "_uuid": "8f2839f25d086af736a60e9eeb907d3b93b6e0e5",
    "execution": {
     "iopub.execute_input": "2024-01-14T14:03:39.963134Z",
     "iopub.status.busy": "2024-01-14T14:03:39.962607Z",
     "iopub.status.idle": "2024-01-14T14:03:43.104513Z",
     "shell.execute_reply": "2024-01-14T14:03:43.103145Z"
    },
    "papermill": {
     "duration": 3.157944,
     "end_time": "2024-01-14T14:03:43.107426",
     "exception": false,
     "start_time": "2024-01-14T14:03:39.949482",
     "status": "completed"
    },
    "tags": []
   },
   "outputs": [
    {
     "name": "stdout",
     "output_type": "stream",
     "text": [
      "/kaggle/input/best-country-to-live-in-2024/best-countries-to-live-in-2024.csv\n"
     ]
    }
   ],
   "source": [
    "import pandas as pd\n",
    "import numpy as np\n",
    "import matplotlib.pyplot as plt\n",
    "import seaborn as sns\n",
    "import plotly.express as px\n",
    "%matplotlib inline\n",
    "import warnings\n",
    "warnings.filterwarnings(\"ignore\")\n",
    "import os\n",
    "for dirname, _, filenames in os.walk('/kaggle/input'):\n",
    "    for filename in filenames:\n",
    "        print(os.path.join(dirname, filename))"
   ]
  },
  {
   "cell_type": "markdown",
   "id": "c3d3f34a",
   "metadata": {
    "papermill": {
     "duration": 0.011086,
     "end_time": "2024-01-14T14:03:43.130165",
     "exception": false,
     "start_time": "2024-01-14T14:03:43.119079",
     "status": "completed"
    },
    "tags": []
   },
   "source": [
    "# -----------------------------------------------\n",
    "# Upload Data"
   ]
  },
  {
   "cell_type": "code",
   "execution_count": 2,
   "id": "d63486cf",
   "metadata": {
    "execution": {
     "iopub.execute_input": "2024-01-14T14:03:43.155269Z",
     "iopub.status.busy": "2024-01-14T14:03:43.154627Z",
     "iopub.status.idle": "2024-01-14T14:03:43.215291Z",
     "shell.execute_reply": "2024-01-14T14:03:43.214103Z"
    },
    "papermill": {
     "duration": 0.076216,
     "end_time": "2024-01-14T14:03:43.217875",
     "exception": false,
     "start_time": "2024-01-14T14:03:43.141659",
     "status": "completed"
    },
    "tags": []
   },
   "outputs": [
    {
     "data": {
      "text/html": [
       "<div>\n",
       "<style scoped>\n",
       "    .dataframe tbody tr th:only-of-type {\n",
       "        vertical-align: middle;\n",
       "    }\n",
       "\n",
       "    .dataframe tbody tr th {\n",
       "        vertical-align: top;\n",
       "    }\n",
       "\n",
       "    .dataframe thead th {\n",
       "        text-align: right;\n",
       "    }\n",
       "</style>\n",
       "<table border=\"1\" class=\"dataframe\">\n",
       "  <thead>\n",
       "    <tr style=\"text-align: right;\">\n",
       "      <th></th>\n",
       "      <th>population_2024</th>\n",
       "      <th>population_growthRate</th>\n",
       "      <th>land_area</th>\n",
       "      <th>country</th>\n",
       "      <th>region</th>\n",
       "      <th>unMember</th>\n",
       "      <th>population_density</th>\n",
       "      <th>population_densityMi</th>\n",
       "      <th>share_borders</th>\n",
       "      <th>Hdi2021</th>\n",
       "      <th>Hdi2020</th>\n",
       "      <th>WorldHappiness2022</th>\n",
       "    </tr>\n",
       "  </thead>\n",
       "  <tbody>\n",
       "    <tr>\n",
       "      <th>0</th>\n",
       "      <td>1441719852</td>\n",
       "      <td>0.00916</td>\n",
       "      <td>3287590</td>\n",
       "      <td>India</td>\n",
       "      <td>Asia</td>\n",
       "      <td>True</td>\n",
       "      <td>484.9067</td>\n",
       "      <td>1255.9084</td>\n",
       "      <td>AFG, BGD, BTN, MMR, CHN, NPL, PAK, LKA</td>\n",
       "      <td>0.633</td>\n",
       "      <td>0.642</td>\n",
       "      <td>3.777</td>\n",
       "    </tr>\n",
       "    <tr>\n",
       "      <th>1</th>\n",
       "      <td>1425178782</td>\n",
       "      <td>-0.00035</td>\n",
       "      <td>9706961</td>\n",
       "      <td>China</td>\n",
       "      <td>Asia</td>\n",
       "      <td>True</td>\n",
       "      <td>151.2174</td>\n",
       "      <td>391.6530</td>\n",
       "      <td>AFG, BTN, MMR, HKG, IND, KAZ, PRK, KGZ, LAO, M...</td>\n",
       "      <td>0.768</td>\n",
       "      <td>0.764</td>\n",
       "      <td>5.585</td>\n",
       "    </tr>\n",
       "    <tr>\n",
       "      <th>2</th>\n",
       "      <td>341814420</td>\n",
       "      <td>0.00535</td>\n",
       "      <td>9372610</td>\n",
       "      <td>United States</td>\n",
       "      <td>North America</td>\n",
       "      <td>True</td>\n",
       "      <td>37.3673</td>\n",
       "      <td>96.7813</td>\n",
       "      <td>CAN, MEX</td>\n",
       "      <td>0.921</td>\n",
       "      <td>0.920</td>\n",
       "      <td>6.977</td>\n",
       "    </tr>\n",
       "    <tr>\n",
       "      <th>3</th>\n",
       "      <td>279798049</td>\n",
       "      <td>0.00816</td>\n",
       "      <td>1904569</td>\n",
       "      <td>Indonesia</td>\n",
       "      <td>Asia</td>\n",
       "      <td>True</td>\n",
       "      <td>149.0254</td>\n",
       "      <td>385.9758</td>\n",
       "      <td>TLS, MYS, PNG</td>\n",
       "      <td>0.705</td>\n",
       "      <td>0.709</td>\n",
       "      <td>5.240</td>\n",
       "    </tr>\n",
       "    <tr>\n",
       "      <th>4</th>\n",
       "      <td>245209815</td>\n",
       "      <td>0.01964</td>\n",
       "      <td>881912</td>\n",
       "      <td>Pakistan</td>\n",
       "      <td>Asia</td>\n",
       "      <td>True</td>\n",
       "      <td>318.0908</td>\n",
       "      <td>823.8551</td>\n",
       "      <td>AFG, CHN, IND, IRN</td>\n",
       "      <td>0.544</td>\n",
       "      <td>0.543</td>\n",
       "      <td>4.516</td>\n",
       "    </tr>\n",
       "    <tr>\n",
       "      <th>...</th>\n",
       "      <td>...</td>\n",
       "      <td>...</td>\n",
       "      <td>...</td>\n",
       "      <td>...</td>\n",
       "      <td>...</td>\n",
       "      <td>...</td>\n",
       "      <td>...</td>\n",
       "      <td>...</td>\n",
       "      <td>...</td>\n",
       "      <td>...</td>\n",
       "      <td>...</td>\n",
       "      <td>...</td>\n",
       "    </tr>\n",
       "    <tr>\n",
       "      <th>136</th>\n",
       "      <td>867605</td>\n",
       "      <td>0.01823</td>\n",
       "      <td>1862</td>\n",
       "      <td>Comoros</td>\n",
       "      <td>Africa</td>\n",
       "      <td>True</td>\n",
       "      <td>466.2037</td>\n",
       "      <td>1207.4675</td>\n",
       "      <td>NaN</td>\n",
       "      <td>0.558</td>\n",
       "      <td>0.562</td>\n",
       "      <td>4.609</td>\n",
       "    </tr>\n",
       "    <tr>\n",
       "      <th>137</th>\n",
       "      <td>661594</td>\n",
       "      <td>0.01043</td>\n",
       "      <td>2586</td>\n",
       "      <td>Luxembourg</td>\n",
       "      <td>Europe</td>\n",
       "      <td>True</td>\n",
       "      <td>256.9796</td>\n",
       "      <td>665.5772</td>\n",
       "      <td>BEL, FRA, DEU</td>\n",
       "      <td>0.930</td>\n",
       "      <td>0.924</td>\n",
       "      <td>7.404</td>\n",
       "    </tr>\n",
       "    <tr>\n",
       "      <th>138</th>\n",
       "      <td>626102</td>\n",
       "      <td>-0.00061</td>\n",
       "      <td>13812</td>\n",
       "      <td>Montenegro</td>\n",
       "      <td>Europe</td>\n",
       "      <td>True</td>\n",
       "      <td>46.5503</td>\n",
       "      <td>120.5654</td>\n",
       "      <td>ALB, BIH, HRV, KOS, SRB</td>\n",
       "      <td>0.832</td>\n",
       "      <td>0.826</td>\n",
       "      <td>5.547</td>\n",
       "    </tr>\n",
       "    <tr>\n",
       "      <th>139</th>\n",
       "      <td>536740</td>\n",
       "      <td>0.00313</td>\n",
       "      <td>316</td>\n",
       "      <td>Malta</td>\n",
       "      <td>Europe</td>\n",
       "      <td>True</td>\n",
       "      <td>1677.3125</td>\n",
       "      <td>4344.2394</td>\n",
       "      <td>NaN</td>\n",
       "      <td>0.918</td>\n",
       "      <td>0.911</td>\n",
       "      <td>6.447</td>\n",
       "    </tr>\n",
       "    <tr>\n",
       "      <th>140</th>\n",
       "      <td>377689</td>\n",
       "      <td>0.00632</td>\n",
       "      <td>103000</td>\n",
       "      <td>Iceland</td>\n",
       "      <td>Europe</td>\n",
       "      <td>True</td>\n",
       "      <td>3.7458</td>\n",
       "      <td>9.7016</td>\n",
       "      <td>NaN</td>\n",
       "      <td>0.959</td>\n",
       "      <td>0.957</td>\n",
       "      <td>7.557</td>\n",
       "    </tr>\n",
       "  </tbody>\n",
       "</table>\n",
       "<p>141 rows × 12 columns</p>\n",
       "</div>"
      ],
      "text/plain": [
       "     population_2024  population_growthRate  land_area        country  \\\n",
       "0         1441719852                0.00916    3287590          India   \n",
       "1         1425178782               -0.00035    9706961          China   \n",
       "2          341814420                0.00535    9372610  United States   \n",
       "3          279798049                0.00816    1904569      Indonesia   \n",
       "4          245209815                0.01964     881912       Pakistan   \n",
       "..               ...                    ...        ...            ...   \n",
       "136           867605                0.01823       1862        Comoros   \n",
       "137           661594                0.01043       2586     Luxembourg   \n",
       "138           626102               -0.00061      13812     Montenegro   \n",
       "139           536740                0.00313        316          Malta   \n",
       "140           377689                0.00632     103000        Iceland   \n",
       "\n",
       "            region  unMember  population_density  population_densityMi  \\\n",
       "0             Asia      True            484.9067             1255.9084   \n",
       "1             Asia      True            151.2174              391.6530   \n",
       "2    North America      True             37.3673               96.7813   \n",
       "3             Asia      True            149.0254              385.9758   \n",
       "4             Asia      True            318.0908              823.8551   \n",
       "..             ...       ...                 ...                   ...   \n",
       "136         Africa      True            466.2037             1207.4675   \n",
       "137         Europe      True            256.9796              665.5772   \n",
       "138         Europe      True             46.5503              120.5654   \n",
       "139         Europe      True           1677.3125             4344.2394   \n",
       "140         Europe      True              3.7458                9.7016   \n",
       "\n",
       "                                         share_borders  Hdi2021  Hdi2020  \\\n",
       "0               AFG, BGD, BTN, MMR, CHN, NPL, PAK, LKA    0.633    0.642   \n",
       "1    AFG, BTN, MMR, HKG, IND, KAZ, PRK, KGZ, LAO, M...    0.768    0.764   \n",
       "2                                             CAN, MEX    0.921    0.920   \n",
       "3                                        TLS, MYS, PNG    0.705    0.709   \n",
       "4                                   AFG, CHN, IND, IRN    0.544    0.543   \n",
       "..                                                 ...      ...      ...   \n",
       "136                                                NaN    0.558    0.562   \n",
       "137                                      BEL, FRA, DEU    0.930    0.924   \n",
       "138                            ALB, BIH, HRV, KOS, SRB    0.832    0.826   \n",
       "139                                                NaN    0.918    0.911   \n",
       "140                                                NaN    0.959    0.957   \n",
       "\n",
       "     WorldHappiness2022  \n",
       "0                 3.777  \n",
       "1                 5.585  \n",
       "2                 6.977  \n",
       "3                 5.240  \n",
       "4                 4.516  \n",
       "..                  ...  \n",
       "136               4.609  \n",
       "137               7.404  \n",
       "138               5.547  \n",
       "139               6.447  \n",
       "140               7.557  \n",
       "\n",
       "[141 rows x 12 columns]"
      ]
     },
     "execution_count": 2,
     "metadata": {},
     "output_type": "execute_result"
    }
   ],
   "source": [
    "data = pd.read_csv('/kaggle/input/best-country-to-live-in-2024/best-countries-to-live-in-2024.csv')\n",
    "data"
   ]
  },
  {
   "cell_type": "markdown",
   "id": "32572ef5",
   "metadata": {
    "papermill": {
     "duration": 0.011677,
     "end_time": "2024-01-14T14:03:43.241855",
     "exception": false,
     "start_time": "2024-01-14T14:03:43.230178",
     "status": "completed"
    },
    "tags": []
   },
   "source": [
    "# -----------------------------------------------\n",
    "# Data Exploration"
   ]
  },
  {
   "cell_type": "code",
   "execution_count": 3,
   "id": "260309be",
   "metadata": {
    "execution": {
     "iopub.execute_input": "2024-01-14T14:03:43.268363Z",
     "iopub.status.busy": "2024-01-14T14:03:43.267339Z",
     "iopub.status.idle": "2024-01-14T14:03:43.297400Z",
     "shell.execute_reply": "2024-01-14T14:03:43.295844Z"
    },
    "papermill": {
     "duration": 0.046912,
     "end_time": "2024-01-14T14:03:43.300912",
     "exception": false,
     "start_time": "2024-01-14T14:03:43.254000",
     "status": "completed"
    },
    "tags": []
   },
   "outputs": [
    {
     "name": "stdout",
     "output_type": "stream",
     "text": [
      "<class 'pandas.core.frame.DataFrame'>\n",
      "RangeIndex: 141 entries, 0 to 140\n",
      "Data columns (total 12 columns):\n",
      " #   Column                 Non-Null Count  Dtype  \n",
      "---  ------                 --------------  -----  \n",
      " 0   population_2024        141 non-null    int64  \n",
      " 1   population_growthRate  141 non-null    float64\n",
      " 2   land_area              141 non-null    int64  \n",
      " 3   country                141 non-null    object \n",
      " 4   region                 141 non-null    object \n",
      " 5   unMember               141 non-null    bool   \n",
      " 6   population_density     141 non-null    float64\n",
      " 7   population_densityMi   141 non-null    float64\n",
      " 8   share_borders          129 non-null    object \n",
      " 9   Hdi2021                141 non-null    float64\n",
      " 10  Hdi2020                141 non-null    float64\n",
      " 11  WorldHappiness2022     141 non-null    float64\n",
      "dtypes: bool(1), float64(6), int64(2), object(3)\n",
      "memory usage: 12.4+ KB\n"
     ]
    }
   ],
   "source": [
    "data.info()"
   ]
  },
  {
   "cell_type": "code",
   "execution_count": 4,
   "id": "23e1c60a",
   "metadata": {
    "execution": {
     "iopub.execute_input": "2024-01-14T14:03:43.330666Z",
     "iopub.status.busy": "2024-01-14T14:03:43.329883Z",
     "iopub.status.idle": "2024-01-14T14:03:43.339859Z",
     "shell.execute_reply": "2024-01-14T14:03:43.338557Z"
    },
    "papermill": {
     "duration": 0.030449,
     "end_time": "2024-01-14T14:03:43.345375",
     "exception": false,
     "start_time": "2024-01-14T14:03:43.314926",
     "status": "completed"
    },
    "tags": []
   },
   "outputs": [
    {
     "name": "stdout",
     "output_type": "stream",
     "text": [
      "Total Null data = 12 cells\n",
      "Total NaN data = 12 cells\n"
     ]
    }
   ],
   "source": [
    "print(f'Total Null data = {data.isnull().sum().sum()} cells')\n",
    "print(f'Total NaN data = {data.isna().sum().sum()} cells')"
   ]
  },
  {
   "cell_type": "code",
   "execution_count": 5,
   "id": "afbfc36d",
   "metadata": {
    "execution": {
     "iopub.execute_input": "2024-01-14T14:03:43.377687Z",
     "iopub.status.busy": "2024-01-14T14:03:43.376166Z",
     "iopub.status.idle": "2024-01-14T14:03:43.388931Z",
     "shell.execute_reply": "2024-01-14T14:03:43.387343Z"
    },
    "papermill": {
     "duration": 0.03157,
     "end_time": "2024-01-14T14:03:43.391617",
     "exception": false,
     "start_time": "2024-01-14T14:03:43.360047",
     "status": "completed"
    },
    "tags": []
   },
   "outputs": [
    {
     "data": {
      "text/plain": [
       "population_2024           0\n",
       "population_growthRate     0\n",
       "land_area                 0\n",
       "country                   0\n",
       "region                    0\n",
       "unMember                  0\n",
       "population_density        0\n",
       "population_densityMi      0\n",
       "share_borders            12\n",
       "Hdi2021                   0\n",
       "Hdi2020                   0\n",
       "WorldHappiness2022        0\n",
       "dtype: int64"
      ]
     },
     "execution_count": 5,
     "metadata": {},
     "output_type": "execute_result"
    }
   ],
   "source": [
    "data.isnull().sum()"
   ]
  },
  {
   "cell_type": "code",
   "execution_count": 6,
   "id": "59a6f051",
   "metadata": {
    "execution": {
     "iopub.execute_input": "2024-01-14T14:03:43.420206Z",
     "iopub.status.busy": "2024-01-14T14:03:43.418881Z",
     "iopub.status.idle": "2024-01-14T14:03:43.432398Z",
     "shell.execute_reply": "2024-01-14T14:03:43.431315Z"
    },
    "papermill": {
     "duration": 0.030377,
     "end_time": "2024-01-14T14:03:43.435002",
     "exception": false,
     "start_time": "2024-01-14T14:03:43.404625",
     "status": "completed"
    },
    "tags": []
   },
   "outputs": [
    {
     "data": {
      "text/plain": [
       "population_2024          0\n",
       "population_growthRate    0\n",
       "land_area                0\n",
       "country                  0\n",
       "region                   0\n",
       "unMember                 0\n",
       "population_density       0\n",
       "population_densityMi     0\n",
       "Hdi2021                  0\n",
       "Hdi2020                  0\n",
       "WorldHappiness2022       0\n",
       "dtype: int64"
      ]
     },
     "execution_count": 6,
     "metadata": {},
     "output_type": "execute_result"
    }
   ],
   "source": [
    "data = data.drop(['share_borders'], axis=1)\n",
    "data.isnull().sum()"
   ]
  },
  {
   "cell_type": "code",
   "execution_count": 7,
   "id": "14541a93",
   "metadata": {
    "execution": {
     "iopub.execute_input": "2024-01-14T14:03:43.463952Z",
     "iopub.status.busy": "2024-01-14T14:03:43.462206Z",
     "iopub.status.idle": "2024-01-14T14:03:43.478324Z",
     "shell.execute_reply": "2024-01-14T14:03:43.476435Z"
    },
    "papermill": {
     "duration": 0.033619,
     "end_time": "2024-01-14T14:03:43.481165",
     "exception": false,
     "start_time": "2024-01-14T14:03:43.447546",
     "status": "completed"
    },
    "tags": []
   },
   "outputs": [
    {
     "name": "stdout",
     "output_type": "stream",
     "text": [
      "<class 'pandas.core.frame.DataFrame'>\n",
      "RangeIndex: 141 entries, 0 to 140\n",
      "Data columns (total 11 columns):\n",
      " #   Column                 Non-Null Count  Dtype  \n",
      "---  ------                 --------------  -----  \n",
      " 0   population_2024        141 non-null    int64  \n",
      " 1   population_growthRate  141 non-null    float64\n",
      " 2   land_area              141 non-null    int64  \n",
      " 3   country                141 non-null    object \n",
      " 4   region                 141 non-null    object \n",
      " 5   unMember               141 non-null    bool   \n",
      " 6   population_density     141 non-null    float64\n",
      " 7   population_densityMi   141 non-null    float64\n",
      " 8   Hdi2021                141 non-null    float64\n",
      " 9   Hdi2020                141 non-null    float64\n",
      " 10  WorldHappiness2022     141 non-null    float64\n",
      "dtypes: bool(1), float64(6), int64(2), object(2)\n",
      "memory usage: 11.3+ KB\n"
     ]
    }
   ],
   "source": [
    "data.info()"
   ]
  },
  {
   "cell_type": "markdown",
   "id": "b40db348",
   "metadata": {
    "papermill": {
     "duration": 0.015062,
     "end_time": "2024-01-14T14:03:43.510447",
     "exception": false,
     "start_time": "2024-01-14T14:03:43.495385",
     "status": "completed"
    },
    "tags": []
   },
   "source": [
    "# -----------------------------------------------\n",
    "# Estimate Total and Average World Population in 2024"
   ]
  },
  {
   "cell_type": "code",
   "execution_count": 8,
   "id": "f8af120d",
   "metadata": {
    "execution": {
     "iopub.execute_input": "2024-01-14T14:03:43.540642Z",
     "iopub.status.busy": "2024-01-14T14:03:43.540169Z",
     "iopub.status.idle": "2024-01-14T14:03:43.562760Z",
     "shell.execute_reply": "2024-01-14T14:03:43.561384Z"
    },
    "papermill": {
     "duration": 0.040525,
     "end_time": "2024-01-14T14:03:43.565355",
     "exception": false,
     "start_time": "2024-01-14T14:03:43.524830",
     "status": "completed"
    },
    "tags": []
   },
   "outputs": [
    {
     "data": {
      "text/html": [
       "<div>\n",
       "<style scoped>\n",
       "    .dataframe tbody tr th:only-of-type {\n",
       "        vertical-align: middle;\n",
       "    }\n",
       "\n",
       "    .dataframe tbody tr th {\n",
       "        vertical-align: top;\n",
       "    }\n",
       "\n",
       "    .dataframe thead th {\n",
       "        text-align: right;\n",
       "    }\n",
       "</style>\n",
       "<table border=\"1\" class=\"dataframe\">\n",
       "  <thead>\n",
       "    <tr style=\"text-align: right;\">\n",
       "      <th></th>\n",
       "      <th>population_2024</th>\n",
       "      <th>population_growthRate</th>\n",
       "      <th>land_area</th>\n",
       "      <th>country</th>\n",
       "      <th>region</th>\n",
       "      <th>unMember</th>\n",
       "      <th>population_density</th>\n",
       "      <th>population_densityMi</th>\n",
       "      <th>Hdi2021</th>\n",
       "      <th>Hdi2020</th>\n",
       "      <th>WorldHappiness2022</th>\n",
       "    </tr>\n",
       "  </thead>\n",
       "  <tbody>\n",
       "    <tr>\n",
       "      <th>69</th>\n",
       "      <td>12564689</td>\n",
       "      <td>0.00855</td>\n",
       "      <td>163610</td>\n",
       "      <td>Tunisia</td>\n",
       "      <td>Africa</td>\n",
       "      <td>True</td>\n",
       "      <td>80.8747</td>\n",
       "      <td>209.4654</td>\n",
       "      <td>0.731</td>\n",
       "      <td>0.737</td>\n",
       "      <td>4.516</td>\n",
       "    </tr>\n",
       "    <tr>\n",
       "      <th>29</th>\n",
       "      <td>47473373</td>\n",
       "      <td>-0.00097</td>\n",
       "      <td>505992</td>\n",
       "      <td>Spain</td>\n",
       "      <td>Europe</td>\n",
       "      <td>True</td>\n",
       "      <td>95.0310</td>\n",
       "      <td>246.1303</td>\n",
       "      <td>0.905</td>\n",
       "      <td>0.899</td>\n",
       "      <td>6.476</td>\n",
       "    </tr>\n",
       "    <tr>\n",
       "      <th>114</th>\n",
       "      <td>3717425</td>\n",
       "      <td>-0.00291</td>\n",
       "      <td>69700</td>\n",
       "      <td>Georgia</td>\n",
       "      <td>Asia</td>\n",
       "      <td>True</td>\n",
       "      <td>53.4958</td>\n",
       "      <td>138.5542</td>\n",
       "      <td>0.802</td>\n",
       "      <td>0.802</td>\n",
       "      <td>4.973</td>\n",
       "    </tr>\n",
       "    <tr>\n",
       "      <th>134</th>\n",
       "      <td>1268467</td>\n",
       "      <td>0.00661</td>\n",
       "      <td>9251</td>\n",
       "      <td>Cyprus</td>\n",
       "      <td>Europe</td>\n",
       "      <td>True</td>\n",
       "      <td>137.2800</td>\n",
       "      <td>355.5551</td>\n",
       "      <td>0.896</td>\n",
       "      <td>0.894</td>\n",
       "      <td>6.221</td>\n",
       "    </tr>\n",
       "    <tr>\n",
       "      <th>32</th>\n",
       "      <td>46057866</td>\n",
       "      <td>0.00620</td>\n",
       "      <td>2780400</td>\n",
       "      <td>Argentina</td>\n",
       "      <td>South America</td>\n",
       "      <td>True</td>\n",
       "      <td>16.8298</td>\n",
       "      <td>43.5891</td>\n",
       "      <td>0.842</td>\n",
       "      <td>0.840</td>\n",
       "      <td>5.967</td>\n",
       "    </tr>\n",
       "  </tbody>\n",
       "</table>\n",
       "</div>"
      ],
      "text/plain": [
       "     population_2024  population_growthRate  land_area    country  \\\n",
       "69          12564689                0.00855     163610    Tunisia   \n",
       "29          47473373               -0.00097     505992      Spain   \n",
       "114          3717425               -0.00291      69700    Georgia   \n",
       "134          1268467                0.00661       9251     Cyprus   \n",
       "32          46057866                0.00620    2780400  Argentina   \n",
       "\n",
       "            region  unMember  population_density  population_densityMi  \\\n",
       "69          Africa      True             80.8747              209.4654   \n",
       "29          Europe      True             95.0310              246.1303   \n",
       "114           Asia      True             53.4958              138.5542   \n",
       "134         Europe      True            137.2800              355.5551   \n",
       "32   South America      True             16.8298               43.5891   \n",
       "\n",
       "     Hdi2021  Hdi2020  WorldHappiness2022  \n",
       "69     0.731    0.737               4.516  \n",
       "29     0.905    0.899               6.476  \n",
       "114    0.802    0.802               4.973  \n",
       "134    0.896    0.894               6.221  \n",
       "32     0.842    0.840               5.967  "
      ]
     },
     "execution_count": 8,
     "metadata": {},
     "output_type": "execute_result"
    }
   ],
   "source": [
    "data.sample(5)"
   ]
  },
  {
   "cell_type": "code",
   "execution_count": 9,
   "id": "da343981",
   "metadata": {
    "execution": {
     "iopub.execute_input": "2024-01-14T14:03:43.593503Z",
     "iopub.status.busy": "2024-01-14T14:03:43.593097Z",
     "iopub.status.idle": "2024-01-14T14:03:43.600045Z",
     "shell.execute_reply": "2024-01-14T14:03:43.598936Z"
    },
    "papermill": {
     "duration": 0.024948,
     "end_time": "2024-01-14T14:03:43.603502",
     "exception": false,
     "start_time": "2024-01-14T14:03:43.578554",
     "status": "completed"
    },
    "tags": []
   },
   "outputs": [
    {
     "name": "stdout",
     "output_type": "stream",
     "text": [
      "Total World Population in 2024 is 7.65 billion people's\n"
     ]
    }
   ],
   "source": [
    "total_wp2024 = np.round(data['population_2024'].sum() / 1000000000, 2)\n",
    "print(f\"Total World Population in 2024 is {total_wp2024} billion people's\")"
   ]
  },
  {
   "cell_type": "code",
   "execution_count": 10,
   "id": "79049272",
   "metadata": {
    "execution": {
     "iopub.execute_input": "2024-01-14T14:03:43.632758Z",
     "iopub.status.busy": "2024-01-14T14:03:43.631844Z",
     "iopub.status.idle": "2024-01-14T14:03:43.639625Z",
     "shell.execute_reply": "2024-01-14T14:03:43.638127Z"
    },
    "papermill": {
     "duration": 0.025218,
     "end_time": "2024-01-14T14:03:43.642210",
     "exception": false,
     "start_time": "2024-01-14T14:03:43.616992",
     "status": "completed"
    },
    "tags": []
   },
   "outputs": [
    {
     "name": "stdout",
     "output_type": "stream",
     "text": [
      "Average of World Population in 2024 is 54.22 million people's\n"
     ]
    }
   ],
   "source": [
    "avg_wp2024 = np.around(data['population_2024'].mean() / 1000000, 2)\n",
    "print(f\"Average of World Population in 2024 is {avg_wp2024} million people's\")"
   ]
  },
  {
   "cell_type": "code",
   "execution_count": 11,
   "id": "46048ed8",
   "metadata": {
    "execution": {
     "iopub.execute_input": "2024-01-14T14:03:43.671564Z",
     "iopub.status.busy": "2024-01-14T14:03:43.671034Z",
     "iopub.status.idle": "2024-01-14T14:03:43.678588Z",
     "shell.execute_reply": "2024-01-14T14:03:43.676841Z"
    },
    "papermill": {
     "duration": 0.02607,
     "end_time": "2024-01-14T14:03:43.681541",
     "exception": false,
     "start_time": "2024-01-14T14:03:43.655471",
     "status": "completed"
    },
    "tags": []
   },
   "outputs": [
    {
     "name": "stdout",
     "output_type": "stream",
     "text": [
      "Total Land Area is 123.15 million km^2\n"
     ]
    }
   ],
   "source": [
    "total_la = np.round(data['land_area'].sum() / 1000000, 2)\n",
    "print(f\"Total Land Area is {total_la} million km^2\")"
   ]
  },
  {
   "cell_type": "code",
   "execution_count": 12,
   "id": "6b240e15",
   "metadata": {
    "execution": {
     "iopub.execute_input": "2024-01-14T14:03:43.711047Z",
     "iopub.status.busy": "2024-01-14T14:03:43.710466Z",
     "iopub.status.idle": "2024-01-14T14:03:43.720464Z",
     "shell.execute_reply": "2024-01-14T14:03:43.718293Z"
    },
    "papermill": {
     "duration": 0.028872,
     "end_time": "2024-01-14T14:03:43.723714",
     "exception": false,
     "start_time": "2024-01-14T14:03:43.694842",
     "status": "completed"
    },
    "tags": []
   },
   "outputs": [
    {
     "name": "stdout",
     "output_type": "stream",
     "text": [
      "Density of World Population per km^2 in 2024 is 62.1 people\n"
     ]
    }
   ],
   "source": [
    "avg_wp2024perla = np.around(data['population_2024'].sum() / data['land_area'].sum(), 1)\n",
    "print(f\"Density of World Population per km^2 in 2024 is {avg_wp2024perla} people\")"
   ]
  },
  {
   "cell_type": "code",
   "execution_count": 13,
   "id": "6a0f2f69",
   "metadata": {
    "execution": {
     "iopub.execute_input": "2024-01-14T14:03:43.754881Z",
     "iopub.status.busy": "2024-01-14T14:03:43.754375Z",
     "iopub.status.idle": "2024-01-14T14:03:45.987483Z",
     "shell.execute_reply": "2024-01-14T14:03:45.986115Z"
    },
    "papermill": {
     "duration": 2.252506,
     "end_time": "2024-01-14T14:03:45.990708",
     "exception": false,
     "start_time": "2024-01-14T14:03:43.738202",
     "status": "completed"
    },
    "tags": []
   },
   "outputs": [
    {
     "data": {
      "text/html": [
       "        <script type=\"text/javascript\">\n",
       "        window.PlotlyConfig = {MathJaxConfig: 'local'};\n",
       "        if (window.MathJax && window.MathJax.Hub && window.MathJax.Hub.Config) {window.MathJax.Hub.Config({SVG: {font: \"STIX-Web\"}});}\n",
       "        if (typeof require !== 'undefined') {\n",
       "        require.undef(\"plotly\");\n",
       "        requirejs.config({\n",
       "            paths: {\n",
       "                'plotly': ['https://cdn.plot.ly/plotly-2.25.2.min']\n",
       "            }\n",
       "        });\n",
       "        require(['plotly'], function(Plotly) {\n",
       "            window._Plotly = Plotly;\n",
       "        });\n",
       "        }\n",
       "        </script>\n",
       "        "
      ]
     },
     "metadata": {},
     "output_type": "display_data"
    },
    {
     "data": {
      "text/html": [
       "<div>                            <div id=\"baa08978-1501-4187-afd6-9b5543ebbaa4\" class=\"plotly-graph-div\" style=\"height:525px; width:100%;\"></div>            <script type=\"text/javascript\">                require([\"plotly\"], function(Plotly) {                    window.PLOTLYENV=window.PLOTLYENV || {};                                    if (document.getElementById(\"baa08978-1501-4187-afd6-9b5543ebbaa4\")) {                    Plotly.newPlot(                        \"baa08978-1501-4187-afd6-9b5543ebbaa4\",                        [{\"coloraxis\":\"coloraxis\",\"geo\":\"geo\",\"hovertemplate\":\"country=%{location}\\u003cbr\\u003epopulation_2024=%{z}\\u003cextra\\u003e\\u003c\\u002fextra\\u003e\",\"locationmode\":\"country names\",\"locations\":[\"India\",\"China\",\"United States\",\"Indonesia\",\"Pakistan\",\"Nigeria\",\"Brazil\",\"Bangladesh\",\"Russia\",\"Ethiopia\",\"Mexico\",\"Japan\",\"Philippines\",\"Egypt\",\"Vietnam\",\"Turkey\",\"Germany\",\"Thailand\",\"Tanzania\",\"United Kingdom\",\"France\",\"South Africa\",\"Italy\",\"Kenya\",\"Myanmar\",\"Colombia\",\"South Korea\",\"Uganda\",\"Sudan\",\"Spain\",\"Iraq\",\"Algeria\",\"Argentina\",\"Afghanistan\",\"Poland\",\"Canada\",\"Morocco\",\"Ukraine\",\"Saudi Arabia\",\"Uzbekistan\",\"Yemen\",\"Mozambique\",\"Ghana\",\"Peru\",\"Malaysia\",\"Nepal\",\"Madagascar\",\"Ivory Coast\",\"Cameroon\",\"Niger\",\"Australia\",\"Mali\",\"Burkina Faso\",\"Sri Lanka\",\"Malawi\",\"Zambia\",\"Kazakhstan\",\"Chile\",\"Romania\",\"Chad\",\"Ecuador\",\"Guatemala\",\"Senegal\",\"Netherlands\",\"Cambodia\",\"Zimbabwe\",\"Rwanda\",\"Benin\",\"Bolivia\",\"Tunisia\",\"Belgium\",\"Dominican Republic\",\"Jordan\",\"Honduras\",\"Sweden\",\"Czech Republic\",\"Azerbaijan\",\"Tajikistan\",\"Greece\",\"Portugal\",\"Hungary\",\"United Arab Emirates\",\"Belarus\",\"Israel\",\"Togo\",\"Sierra Leone\",\"Austria\",\"Switzerland\",\"Laos\",\"Hong Kong\",\"Nicaragua\",\"Serbia\",\"Libya\",\"Paraguay\",\"Kyrgyzstan\",\"Bulgaria\",\"Turkmenistan\",\"El Salvador\",\"Republic of the Congo\",\"Singapore\",\"Denmark\",\"Slovakia\",\"Finland\",\"Liberia\",\"Norway\",\"Palestine\",\"New Zealand\",\"Costa Rica\",\"Lebanon\",\"Ireland\",\"Mauritania\",\"Panama\",\"Kuwait\",\"Croatia\",\"Georgia\",\"Mongolia\",\"Uruguay\",\"Moldova\",\"Bosnia and Herzegovina\",\"Gambia\",\"Albania\",\"Jamaica\",\"Armenia\",\"Botswana\",\"Lithuania\",\"Namibia\",\"Gabon\",\"Lesotho\",\"Slovenia\",\"North Macedonia\",\"Latvia\",\"Bahrain\",\"Estonia\",\"Mauritius\",\"Cyprus\",\"Eswatini\",\"Comoros\",\"Luxembourg\",\"Montenegro\",\"Malta\",\"Iceland\"],\"name\":\"\",\"z\":[1441719852,1425178782,341814420,279798049,245209815,229152217,217637297,174701211,143957079,129719719,129388467,122631432,119106224,114484252,99497680,86260417,83252474,71885799,69419073,67961439,64881830,61020221,58697744,56203030,54964694,52340774,51741963,49924252,49358228,47473373,46523657,46278751,46057866,43372950,40221726,39107046,38211459,37937821,37473929,35673804,35219853,34858402,34777522,34683444,34671895,31240315,31056610,29603302,29394433,28238972,26699482,24015789,23840247,21949268,21475962,21134695,19828165,19658839,19618996,18847148,18377367,18358430,18221567,17671125,17121847,17020321,14414910,14080072,12567336,12564689,11715774,11434005,11384922,10759406,10673669,10503734,10462904,10331513,10302720,10223349,9994993,9591853,9455037,9311652,9260864,8977972,8977139,8851431,7736681,7496681,7142529,7097028,6964197,6947270,6839606,6618615,6598071,6396289,6244547,6052709,5939695,5702832,5549886,5536949,5514477,5494963,5269939,5246714,5219044,5089478,4993922,4527961,4349380,3986627,3717425,3493629,3423316,3329865,3194378,2841803,2826020,2824738,2777979,2719694,2692798,2645805,2484557,2356083,2118965,2082706,1810240,1498712,1319041,1301978,1268467,1222075,867605,661594,626102,536740,377689],\"type\":\"choropleth\"}],                        {\"template\":{\"data\":{\"histogram2dcontour\":[{\"type\":\"histogram2dcontour\",\"colorbar\":{\"outlinewidth\":0,\"ticks\":\"\"},\"colorscale\":[[0.0,\"#0d0887\"],[0.1111111111111111,\"#46039f\"],[0.2222222222222222,\"#7201a8\"],[0.3333333333333333,\"#9c179e\"],[0.4444444444444444,\"#bd3786\"],[0.5555555555555556,\"#d8576b\"],[0.6666666666666666,\"#ed7953\"],[0.7777777777777778,\"#fb9f3a\"],[0.8888888888888888,\"#fdca26\"],[1.0,\"#f0f921\"]]}],\"choropleth\":[{\"type\":\"choropleth\",\"colorbar\":{\"outlinewidth\":0,\"ticks\":\"\"}}],\"histogram2d\":[{\"type\":\"histogram2d\",\"colorbar\":{\"outlinewidth\":0,\"ticks\":\"\"},\"colorscale\":[[0.0,\"#0d0887\"],[0.1111111111111111,\"#46039f\"],[0.2222222222222222,\"#7201a8\"],[0.3333333333333333,\"#9c179e\"],[0.4444444444444444,\"#bd3786\"],[0.5555555555555556,\"#d8576b\"],[0.6666666666666666,\"#ed7953\"],[0.7777777777777778,\"#fb9f3a\"],[0.8888888888888888,\"#fdca26\"],[1.0,\"#f0f921\"]]}],\"heatmap\":[{\"type\":\"heatmap\",\"colorbar\":{\"outlinewidth\":0,\"ticks\":\"\"},\"colorscale\":[[0.0,\"#0d0887\"],[0.1111111111111111,\"#46039f\"],[0.2222222222222222,\"#7201a8\"],[0.3333333333333333,\"#9c179e\"],[0.4444444444444444,\"#bd3786\"],[0.5555555555555556,\"#d8576b\"],[0.6666666666666666,\"#ed7953\"],[0.7777777777777778,\"#fb9f3a\"],[0.8888888888888888,\"#fdca26\"],[1.0,\"#f0f921\"]]}],\"heatmapgl\":[{\"type\":\"heatmapgl\",\"colorbar\":{\"outlinewidth\":0,\"ticks\":\"\"},\"colorscale\":[[0.0,\"#0d0887\"],[0.1111111111111111,\"#46039f\"],[0.2222222222222222,\"#7201a8\"],[0.3333333333333333,\"#9c179e\"],[0.4444444444444444,\"#bd3786\"],[0.5555555555555556,\"#d8576b\"],[0.6666666666666666,\"#ed7953\"],[0.7777777777777778,\"#fb9f3a\"],[0.8888888888888888,\"#fdca26\"],[1.0,\"#f0f921\"]]}],\"contourcarpet\":[{\"type\":\"contourcarpet\",\"colorbar\":{\"outlinewidth\":0,\"ticks\":\"\"}}],\"contour\":[{\"type\":\"contour\",\"colorbar\":{\"outlinewidth\":0,\"ticks\":\"\"},\"colorscale\":[[0.0,\"#0d0887\"],[0.1111111111111111,\"#46039f\"],[0.2222222222222222,\"#7201a8\"],[0.3333333333333333,\"#9c179e\"],[0.4444444444444444,\"#bd3786\"],[0.5555555555555556,\"#d8576b\"],[0.6666666666666666,\"#ed7953\"],[0.7777777777777778,\"#fb9f3a\"],[0.8888888888888888,\"#fdca26\"],[1.0,\"#f0f921\"]]}],\"surface\":[{\"type\":\"surface\",\"colorbar\":{\"outlinewidth\":0,\"ticks\":\"\"},\"colorscale\":[[0.0,\"#0d0887\"],[0.1111111111111111,\"#46039f\"],[0.2222222222222222,\"#7201a8\"],[0.3333333333333333,\"#9c179e\"],[0.4444444444444444,\"#bd3786\"],[0.5555555555555556,\"#d8576b\"],[0.6666666666666666,\"#ed7953\"],[0.7777777777777778,\"#fb9f3a\"],[0.8888888888888888,\"#fdca26\"],[1.0,\"#f0f921\"]]}],\"mesh3d\":[{\"type\":\"mesh3d\",\"colorbar\":{\"outlinewidth\":0,\"ticks\":\"\"}}],\"scatter\":[{\"fillpattern\":{\"fillmode\":\"overlay\",\"size\":10,\"solidity\":0.2},\"type\":\"scatter\"}],\"parcoords\":[{\"type\":\"parcoords\",\"line\":{\"colorbar\":{\"outlinewidth\":0,\"ticks\":\"\"}}}],\"scatterpolargl\":[{\"type\":\"scatterpolargl\",\"marker\":{\"colorbar\":{\"outlinewidth\":0,\"ticks\":\"\"}}}],\"bar\":[{\"error_x\":{\"color\":\"#2a3f5f\"},\"error_y\":{\"color\":\"#2a3f5f\"},\"marker\":{\"line\":{\"color\":\"#E5ECF6\",\"width\":0.5},\"pattern\":{\"fillmode\":\"overlay\",\"size\":10,\"solidity\":0.2}},\"type\":\"bar\"}],\"scattergeo\":[{\"type\":\"scattergeo\",\"marker\":{\"colorbar\":{\"outlinewidth\":0,\"ticks\":\"\"}}}],\"scatterpolar\":[{\"type\":\"scatterpolar\",\"marker\":{\"colorbar\":{\"outlinewidth\":0,\"ticks\":\"\"}}}],\"histogram\":[{\"marker\":{\"pattern\":{\"fillmode\":\"overlay\",\"size\":10,\"solidity\":0.2}},\"type\":\"histogram\"}],\"scattergl\":[{\"type\":\"scattergl\",\"marker\":{\"colorbar\":{\"outlinewidth\":0,\"ticks\":\"\"}}}],\"scatter3d\":[{\"type\":\"scatter3d\",\"line\":{\"colorbar\":{\"outlinewidth\":0,\"ticks\":\"\"}},\"marker\":{\"colorbar\":{\"outlinewidth\":0,\"ticks\":\"\"}}}],\"scattermapbox\":[{\"type\":\"scattermapbox\",\"marker\":{\"colorbar\":{\"outlinewidth\":0,\"ticks\":\"\"}}}],\"scatterternary\":[{\"type\":\"scatterternary\",\"marker\":{\"colorbar\":{\"outlinewidth\":0,\"ticks\":\"\"}}}],\"scattercarpet\":[{\"type\":\"scattercarpet\",\"marker\":{\"colorbar\":{\"outlinewidth\":0,\"ticks\":\"\"}}}],\"carpet\":[{\"aaxis\":{\"endlinecolor\":\"#2a3f5f\",\"gridcolor\":\"white\",\"linecolor\":\"white\",\"minorgridcolor\":\"white\",\"startlinecolor\":\"#2a3f5f\"},\"baxis\":{\"endlinecolor\":\"#2a3f5f\",\"gridcolor\":\"white\",\"linecolor\":\"white\",\"minorgridcolor\":\"white\",\"startlinecolor\":\"#2a3f5f\"},\"type\":\"carpet\"}],\"table\":[{\"cells\":{\"fill\":{\"color\":\"#EBF0F8\"},\"line\":{\"color\":\"white\"}},\"header\":{\"fill\":{\"color\":\"#C8D4E3\"},\"line\":{\"color\":\"white\"}},\"type\":\"table\"}],\"barpolar\":[{\"marker\":{\"line\":{\"color\":\"#E5ECF6\",\"width\":0.5},\"pattern\":{\"fillmode\":\"overlay\",\"size\":10,\"solidity\":0.2}},\"type\":\"barpolar\"}],\"pie\":[{\"automargin\":true,\"type\":\"pie\"}]},\"layout\":{\"autotypenumbers\":\"strict\",\"colorway\":[\"#636efa\",\"#EF553B\",\"#00cc96\",\"#ab63fa\",\"#FFA15A\",\"#19d3f3\",\"#FF6692\",\"#B6E880\",\"#FF97FF\",\"#FECB52\"],\"font\":{\"color\":\"#2a3f5f\"},\"hovermode\":\"closest\",\"hoverlabel\":{\"align\":\"left\"},\"paper_bgcolor\":\"white\",\"plot_bgcolor\":\"#E5ECF6\",\"polar\":{\"bgcolor\":\"#E5ECF6\",\"angularaxis\":{\"gridcolor\":\"white\",\"linecolor\":\"white\",\"ticks\":\"\"},\"radialaxis\":{\"gridcolor\":\"white\",\"linecolor\":\"white\",\"ticks\":\"\"}},\"ternary\":{\"bgcolor\":\"#E5ECF6\",\"aaxis\":{\"gridcolor\":\"white\",\"linecolor\":\"white\",\"ticks\":\"\"},\"baxis\":{\"gridcolor\":\"white\",\"linecolor\":\"white\",\"ticks\":\"\"},\"caxis\":{\"gridcolor\":\"white\",\"linecolor\":\"white\",\"ticks\":\"\"}},\"coloraxis\":{\"colorbar\":{\"outlinewidth\":0,\"ticks\":\"\"}},\"colorscale\":{\"sequential\":[[0.0,\"#0d0887\"],[0.1111111111111111,\"#46039f\"],[0.2222222222222222,\"#7201a8\"],[0.3333333333333333,\"#9c179e\"],[0.4444444444444444,\"#bd3786\"],[0.5555555555555556,\"#d8576b\"],[0.6666666666666666,\"#ed7953\"],[0.7777777777777778,\"#fb9f3a\"],[0.8888888888888888,\"#fdca26\"],[1.0,\"#f0f921\"]],\"sequentialminus\":[[0.0,\"#0d0887\"],[0.1111111111111111,\"#46039f\"],[0.2222222222222222,\"#7201a8\"],[0.3333333333333333,\"#9c179e\"],[0.4444444444444444,\"#bd3786\"],[0.5555555555555556,\"#d8576b\"],[0.6666666666666666,\"#ed7953\"],[0.7777777777777778,\"#fb9f3a\"],[0.8888888888888888,\"#fdca26\"],[1.0,\"#f0f921\"]],\"diverging\":[[0,\"#8e0152\"],[0.1,\"#c51b7d\"],[0.2,\"#de77ae\"],[0.3,\"#f1b6da\"],[0.4,\"#fde0ef\"],[0.5,\"#f7f7f7\"],[0.6,\"#e6f5d0\"],[0.7,\"#b8e186\"],[0.8,\"#7fbc41\"],[0.9,\"#4d9221\"],[1,\"#276419\"]]},\"xaxis\":{\"gridcolor\":\"white\",\"linecolor\":\"white\",\"ticks\":\"\",\"title\":{\"standoff\":15},\"zerolinecolor\":\"white\",\"automargin\":true,\"zerolinewidth\":2},\"yaxis\":{\"gridcolor\":\"white\",\"linecolor\":\"white\",\"ticks\":\"\",\"title\":{\"standoff\":15},\"zerolinecolor\":\"white\",\"automargin\":true,\"zerolinewidth\":2},\"scene\":{\"xaxis\":{\"backgroundcolor\":\"#E5ECF6\",\"gridcolor\":\"white\",\"linecolor\":\"white\",\"showbackground\":true,\"ticks\":\"\",\"zerolinecolor\":\"white\",\"gridwidth\":2},\"yaxis\":{\"backgroundcolor\":\"#E5ECF6\",\"gridcolor\":\"white\",\"linecolor\":\"white\",\"showbackground\":true,\"ticks\":\"\",\"zerolinecolor\":\"white\",\"gridwidth\":2},\"zaxis\":{\"backgroundcolor\":\"#E5ECF6\",\"gridcolor\":\"white\",\"linecolor\":\"white\",\"showbackground\":true,\"ticks\":\"\",\"zerolinecolor\":\"white\",\"gridwidth\":2}},\"shapedefaults\":{\"line\":{\"color\":\"#2a3f5f\"}},\"annotationdefaults\":{\"arrowcolor\":\"#2a3f5f\",\"arrowhead\":0,\"arrowwidth\":1},\"geo\":{\"bgcolor\":\"white\",\"landcolor\":\"#E5ECF6\",\"subunitcolor\":\"white\",\"showland\":true,\"showlakes\":true,\"lakecolor\":\"white\"},\"title\":{\"x\":0.05},\"mapbox\":{\"style\":\"light\"}}},\"geo\":{\"domain\":{\"x\":[0.0,1.0],\"y\":[0.0,1.0]},\"center\":{}},\"coloraxis\":{\"colorbar\":{\"title\":{\"text\":\"population_2024\"}},\"colorscale\":[[0.0,\"#440154\"],[0.1111111111111111,\"#482878\"],[0.2222222222222222,\"#3e4989\"],[0.3333333333333333,\"#31688e\"],[0.4444444444444444,\"#26828e\"],[0.5555555555555556,\"#1f9e89\"],[0.6666666666666666,\"#35b779\"],[0.7777777777777778,\"#6ece58\"],[0.8888888888888888,\"#b5de2b\"],[1.0,\"#fde725\"]]},\"legend\":{\"tracegroupgap\":0},\"title\":{\"text\":\"Total Population in 2024\"}},                        {\"responsive\": true}                    ).then(function(){\n",
       "                            \n",
       "var gd = document.getElementById('baa08978-1501-4187-afd6-9b5543ebbaa4');\n",
       "var x = new MutationObserver(function (mutations, observer) {{\n",
       "        var display = window.getComputedStyle(gd).display;\n",
       "        if (!display || display === 'none') {{\n",
       "            console.log([gd, 'removed!']);\n",
       "            Plotly.purge(gd);\n",
       "            observer.disconnect();\n",
       "        }}\n",
       "}});\n",
       "\n",
       "// Listen for the removal of the full notebook cells\n",
       "var notebookContainer = gd.closest('#notebook-container');\n",
       "if (notebookContainer) {{\n",
       "    x.observe(notebookContainer, {childList: true});\n",
       "}}\n",
       "\n",
       "// Listen for the clearing of the current output cell\n",
       "var outputEl = gd.closest('.output');\n",
       "if (outputEl) {{\n",
       "    x.observe(outputEl, {childList: true});\n",
       "}}\n",
       "\n",
       "                        })                };                });            </script>        </div>"
      ]
     },
     "metadata": {},
     "output_type": "display_data"
    }
   ],
   "source": [
    "fig_happiness_map = px.choropleth(data, locations='country', locationmode='country names',\n",
    "                                  color='population_2024',\n",
    "                                  title='Total Population in 2024',\n",
    "                                  color_continuous_scale='Viridis',\n",
    "                                  labels={'population_densityMi': 'Population Density'})\n",
    "\n",
    "# Display the map\n",
    "fig_happiness_map.show()"
   ]
  },
  {
   "cell_type": "markdown",
   "id": "41e296fe",
   "metadata": {
    "papermill": {
     "duration": 0.013753,
     "end_time": "2024-01-14T14:03:46.019284",
     "exception": false,
     "start_time": "2024-01-14T14:03:46.005531",
     "status": "completed"
    },
    "tags": []
   },
   "source": [
    "# -----------------------------------------------\n",
    "# HDI 2020 & 2021, Pop Growth Rate and World Happiness"
   ]
  },
  {
   "cell_type": "code",
   "execution_count": 14,
   "id": "6af150e4",
   "metadata": {
    "execution": {
     "iopub.execute_input": "2024-01-14T14:03:46.049220Z",
     "iopub.status.busy": "2024-01-14T14:03:46.048776Z",
     "iopub.status.idle": "2024-01-14T14:03:46.056600Z",
     "shell.execute_reply": "2024-01-14T14:03:46.055220Z"
    },
    "papermill": {
     "duration": 0.026173,
     "end_time": "2024-01-14T14:03:46.059709",
     "exception": false,
     "start_time": "2024-01-14T14:03:46.033536",
     "status": "completed"
    },
    "tags": []
   },
   "outputs": [
    {
     "name": "stdout",
     "output_type": "stream",
     "text": [
      "Average of HDI 2020 = 0.7376\n",
      "Average of HDI 2021 = 0.7372\n"
     ]
    }
   ],
   "source": [
    "hdi2020 = np.around(data.Hdi2020.mean(), 4)\n",
    "hdi2021 = np.around(data.Hdi2021.mean(), 4)\n",
    "\n",
    "print(f'Average of HDI 2020 = {hdi2020}')\n",
    "print(f'Average of HDI 2021 = {hdi2021}')"
   ]
  },
  {
   "cell_type": "code",
   "execution_count": 15,
   "id": "80ce1ec1",
   "metadata": {
    "execution": {
     "iopub.execute_input": "2024-01-14T14:03:46.091030Z",
     "iopub.status.busy": "2024-01-14T14:03:46.090146Z",
     "iopub.status.idle": "2024-01-14T14:03:46.097478Z",
     "shell.execute_reply": "2024-01-14T14:03:46.095981Z"
    },
    "papermill": {
     "duration": 0.026111,
     "end_time": "2024-01-14T14:03:46.099971",
     "exception": false,
     "start_time": "2024-01-14T14:03:46.073860",
     "status": "completed"
    },
    "tags": []
   },
   "outputs": [
    {
     "name": "stdout",
     "output_type": "stream",
     "text": [
      "Average of Population growth rate = 0.0093\n"
     ]
    }
   ],
   "source": [
    "pop_gr = np.around(data.population_growthRate.mean(), 4)\n",
    "print(f'Average of Population growth rate = {pop_gr}')"
   ]
  },
  {
   "cell_type": "code",
   "execution_count": 16,
   "id": "76b04a99",
   "metadata": {
    "execution": {
     "iopub.execute_input": "2024-01-14T14:03:46.131597Z",
     "iopub.status.busy": "2024-01-14T14:03:46.129942Z",
     "iopub.status.idle": "2024-01-14T14:03:46.138413Z",
     "shell.execute_reply": "2024-01-14T14:03:46.137057Z"
    },
    "papermill": {
     "duration": 0.027398,
     "end_time": "2024-01-14T14:03:46.141575",
     "exception": false,
     "start_time": "2024-01-14T14:03:46.114177",
     "status": "completed"
    },
    "tags": []
   },
   "outputs": [
    {
     "name": "stdout",
     "output_type": "stream",
     "text": [
      "Average of World Happiness in 2022 = 5.54 point\n"
     ]
    }
   ],
   "source": [
    "wh2022 = np.around(data.WorldHappiness2022.mean(), 2)\n",
    "print(f'Average of World Happiness in 2022 = {wh2022} point')"
   ]
  },
  {
   "cell_type": "code",
   "execution_count": 17,
   "id": "2b179849",
   "metadata": {
    "execution": {
     "iopub.execute_input": "2024-01-14T14:03:46.276865Z",
     "iopub.status.busy": "2024-01-14T14:03:46.275298Z",
     "iopub.status.idle": "2024-01-14T14:03:46.355436Z",
     "shell.execute_reply": "2024-01-14T14:03:46.353730Z"
    },
    "papermill": {
     "duration": 0.099802,
     "end_time": "2024-01-14T14:03:46.358391",
     "exception": false,
     "start_time": "2024-01-14T14:03:46.258589",
     "status": "completed"
    },
    "tags": []
   },
   "outputs": [
    {
     "data": {
      "text/html": [
       "<div>                            <div id=\"ea292d7f-bf05-431e-90b5-e1366cd8b881\" class=\"plotly-graph-div\" style=\"height:525px; width:100%;\"></div>            <script type=\"text/javascript\">                require([\"plotly\"], function(Plotly) {                    window.PLOTLYENV=window.PLOTLYENV || {};                                    if (document.getElementById(\"ea292d7f-bf05-431e-90b5-e1366cd8b881\")) {                    Plotly.newPlot(                        \"ea292d7f-bf05-431e-90b5-e1366cd8b881\",                        [{\"coloraxis\":\"coloraxis\",\"geo\":\"geo\",\"hovertemplate\":\"country=%{location}\\u003cbr\\u003eHDI 2020=%{z}\\u003cextra\\u003e\\u003c\\u002fextra\\u003e\",\"locationmode\":\"country names\",\"locations\":[\"India\",\"China\",\"United States\",\"Indonesia\",\"Pakistan\",\"Nigeria\",\"Brazil\",\"Bangladesh\",\"Russia\",\"Ethiopia\",\"Mexico\",\"Japan\",\"Philippines\",\"Egypt\",\"Vietnam\",\"Turkey\",\"Germany\",\"Thailand\",\"Tanzania\",\"United Kingdom\",\"France\",\"South Africa\",\"Italy\",\"Kenya\",\"Myanmar\",\"Colombia\",\"South Korea\",\"Uganda\",\"Sudan\",\"Spain\",\"Iraq\",\"Algeria\",\"Argentina\",\"Afghanistan\",\"Poland\",\"Canada\",\"Morocco\",\"Ukraine\",\"Saudi Arabia\",\"Uzbekistan\",\"Yemen\",\"Mozambique\",\"Ghana\",\"Peru\",\"Malaysia\",\"Nepal\",\"Madagascar\",\"Ivory Coast\",\"Cameroon\",\"Niger\",\"Australia\",\"Mali\",\"Burkina Faso\",\"Sri Lanka\",\"Malawi\",\"Zambia\",\"Kazakhstan\",\"Chile\",\"Romania\",\"Chad\",\"Ecuador\",\"Guatemala\",\"Senegal\",\"Netherlands\",\"Cambodia\",\"Zimbabwe\",\"Rwanda\",\"Benin\",\"Bolivia\",\"Tunisia\",\"Belgium\",\"Dominican Republic\",\"Jordan\",\"Honduras\",\"Sweden\",\"Czech Republic\",\"Azerbaijan\",\"Tajikistan\",\"Greece\",\"Portugal\",\"Hungary\",\"United Arab Emirates\",\"Belarus\",\"Israel\",\"Togo\",\"Sierra Leone\",\"Austria\",\"Switzerland\",\"Laos\",\"Hong Kong\",\"Nicaragua\",\"Serbia\",\"Libya\",\"Paraguay\",\"Kyrgyzstan\",\"Bulgaria\",\"Turkmenistan\",\"El Salvador\",\"Republic of the Congo\",\"Singapore\",\"Denmark\",\"Slovakia\",\"Finland\",\"Liberia\",\"Norway\",\"Palestine\",\"New Zealand\",\"Costa Rica\",\"Lebanon\",\"Ireland\",\"Mauritania\",\"Panama\",\"Kuwait\",\"Croatia\",\"Georgia\",\"Mongolia\",\"Uruguay\",\"Moldova\",\"Bosnia and Herzegovina\",\"Gambia\",\"Albania\",\"Jamaica\",\"Armenia\",\"Botswana\",\"Lithuania\",\"Namibia\",\"Gabon\",\"Lesotho\",\"Slovenia\",\"North Macedonia\",\"Latvia\",\"Bahrain\",\"Estonia\",\"Mauritius\",\"Cyprus\",\"Eswatini\",\"Comoros\",\"Luxembourg\",\"Montenegro\",\"Malta\",\"Iceland\"],\"name\":\"\",\"z\":[0.642,0.764,0.92,0.709,0.543,0.535,0.758,0.655,0.83,0.498,0.756,0.923,0.71,0.734,0.71,0.833,0.944,0.802,0.548,0.924,0.898,0.727,0.889,0.578,0.6,0.756,0.922,0.524,0.51,0.899,0.679,0.736,0.84,0.483,0.876,0.931,0.679,0.775,0.87,0.721,0.46,0.453,0.632,0.762,0.806,0.604,0.501,0.551,0.578,0.401,0.947,0.427,0.449,0.78,0.516,0.57,0.814,0.852,0.824,0.397,0.731,0.635,0.513,0.939,0.596,0.6,0.532,0.524,0.694,0.737,0.928,0.764,0.723,0.621,0.942,0.892,0.73,0.664,0.886,0.863,0.849,0.912,0.807,0.917,0.535,0.475,0.913,0.956,0.608,0.949,0.654,0.804,0.703,0.73,0.689,0.802,0.741,0.672,0.574,0.939,0.947,0.857,0.938,0.48,0.959,0.716,0.936,0.816,0.726,0.943,0.556,0.801,0.822,0.855,0.802,0.745,0.821,0.766,0.781,0.501,0.794,0.713,0.757,0.713,0.879,0.633,0.71,0.521,0.913,0.774,0.871,0.877,0.892,0.804,0.894,0.61,0.562,0.924,0.826,0.911,0.957],\"type\":\"choropleth\"}],                        {\"template\":{\"data\":{\"histogram2dcontour\":[{\"type\":\"histogram2dcontour\",\"colorbar\":{\"outlinewidth\":0,\"ticks\":\"\"},\"colorscale\":[[0.0,\"#0d0887\"],[0.1111111111111111,\"#46039f\"],[0.2222222222222222,\"#7201a8\"],[0.3333333333333333,\"#9c179e\"],[0.4444444444444444,\"#bd3786\"],[0.5555555555555556,\"#d8576b\"],[0.6666666666666666,\"#ed7953\"],[0.7777777777777778,\"#fb9f3a\"],[0.8888888888888888,\"#fdca26\"],[1.0,\"#f0f921\"]]}],\"choropleth\":[{\"type\":\"choropleth\",\"colorbar\":{\"outlinewidth\":0,\"ticks\":\"\"}}],\"histogram2d\":[{\"type\":\"histogram2d\",\"colorbar\":{\"outlinewidth\":0,\"ticks\":\"\"},\"colorscale\":[[0.0,\"#0d0887\"],[0.1111111111111111,\"#46039f\"],[0.2222222222222222,\"#7201a8\"],[0.3333333333333333,\"#9c179e\"],[0.4444444444444444,\"#bd3786\"],[0.5555555555555556,\"#d8576b\"],[0.6666666666666666,\"#ed7953\"],[0.7777777777777778,\"#fb9f3a\"],[0.8888888888888888,\"#fdca26\"],[1.0,\"#f0f921\"]]}],\"heatmap\":[{\"type\":\"heatmap\",\"colorbar\":{\"outlinewidth\":0,\"ticks\":\"\"},\"colorscale\":[[0.0,\"#0d0887\"],[0.1111111111111111,\"#46039f\"],[0.2222222222222222,\"#7201a8\"],[0.3333333333333333,\"#9c179e\"],[0.4444444444444444,\"#bd3786\"],[0.5555555555555556,\"#d8576b\"],[0.6666666666666666,\"#ed7953\"],[0.7777777777777778,\"#fb9f3a\"],[0.8888888888888888,\"#fdca26\"],[1.0,\"#f0f921\"]]}],\"heatmapgl\":[{\"type\":\"heatmapgl\",\"colorbar\":{\"outlinewidth\":0,\"ticks\":\"\"},\"colorscale\":[[0.0,\"#0d0887\"],[0.1111111111111111,\"#46039f\"],[0.2222222222222222,\"#7201a8\"],[0.3333333333333333,\"#9c179e\"],[0.4444444444444444,\"#bd3786\"],[0.5555555555555556,\"#d8576b\"],[0.6666666666666666,\"#ed7953\"],[0.7777777777777778,\"#fb9f3a\"],[0.8888888888888888,\"#fdca26\"],[1.0,\"#f0f921\"]]}],\"contourcarpet\":[{\"type\":\"contourcarpet\",\"colorbar\":{\"outlinewidth\":0,\"ticks\":\"\"}}],\"contour\":[{\"type\":\"contour\",\"colorbar\":{\"outlinewidth\":0,\"ticks\":\"\"},\"colorscale\":[[0.0,\"#0d0887\"],[0.1111111111111111,\"#46039f\"],[0.2222222222222222,\"#7201a8\"],[0.3333333333333333,\"#9c179e\"],[0.4444444444444444,\"#bd3786\"],[0.5555555555555556,\"#d8576b\"],[0.6666666666666666,\"#ed7953\"],[0.7777777777777778,\"#fb9f3a\"],[0.8888888888888888,\"#fdca26\"],[1.0,\"#f0f921\"]]}],\"surface\":[{\"type\":\"surface\",\"colorbar\":{\"outlinewidth\":0,\"ticks\":\"\"},\"colorscale\":[[0.0,\"#0d0887\"],[0.1111111111111111,\"#46039f\"],[0.2222222222222222,\"#7201a8\"],[0.3333333333333333,\"#9c179e\"],[0.4444444444444444,\"#bd3786\"],[0.5555555555555556,\"#d8576b\"],[0.6666666666666666,\"#ed7953\"],[0.7777777777777778,\"#fb9f3a\"],[0.8888888888888888,\"#fdca26\"],[1.0,\"#f0f921\"]]}],\"mesh3d\":[{\"type\":\"mesh3d\",\"colorbar\":{\"outlinewidth\":0,\"ticks\":\"\"}}],\"scatter\":[{\"fillpattern\":{\"fillmode\":\"overlay\",\"size\":10,\"solidity\":0.2},\"type\":\"scatter\"}],\"parcoords\":[{\"type\":\"parcoords\",\"line\":{\"colorbar\":{\"outlinewidth\":0,\"ticks\":\"\"}}}],\"scatterpolargl\":[{\"type\":\"scatterpolargl\",\"marker\":{\"colorbar\":{\"outlinewidth\":0,\"ticks\":\"\"}}}],\"bar\":[{\"error_x\":{\"color\":\"#2a3f5f\"},\"error_y\":{\"color\":\"#2a3f5f\"},\"marker\":{\"line\":{\"color\":\"#E5ECF6\",\"width\":0.5},\"pattern\":{\"fillmode\":\"overlay\",\"size\":10,\"solidity\":0.2}},\"type\":\"bar\"}],\"scattergeo\":[{\"type\":\"scattergeo\",\"marker\":{\"colorbar\":{\"outlinewidth\":0,\"ticks\":\"\"}}}],\"scatterpolar\":[{\"type\":\"scatterpolar\",\"marker\":{\"colorbar\":{\"outlinewidth\":0,\"ticks\":\"\"}}}],\"histogram\":[{\"marker\":{\"pattern\":{\"fillmode\":\"overlay\",\"size\":10,\"solidity\":0.2}},\"type\":\"histogram\"}],\"scattergl\":[{\"type\":\"scattergl\",\"marker\":{\"colorbar\":{\"outlinewidth\":0,\"ticks\":\"\"}}}],\"scatter3d\":[{\"type\":\"scatter3d\",\"line\":{\"colorbar\":{\"outlinewidth\":0,\"ticks\":\"\"}},\"marker\":{\"colorbar\":{\"outlinewidth\":0,\"ticks\":\"\"}}}],\"scattermapbox\":[{\"type\":\"scattermapbox\",\"marker\":{\"colorbar\":{\"outlinewidth\":0,\"ticks\":\"\"}}}],\"scatterternary\":[{\"type\":\"scatterternary\",\"marker\":{\"colorbar\":{\"outlinewidth\":0,\"ticks\":\"\"}}}],\"scattercarpet\":[{\"type\":\"scattercarpet\",\"marker\":{\"colorbar\":{\"outlinewidth\":0,\"ticks\":\"\"}}}],\"carpet\":[{\"aaxis\":{\"endlinecolor\":\"#2a3f5f\",\"gridcolor\":\"white\",\"linecolor\":\"white\",\"minorgridcolor\":\"white\",\"startlinecolor\":\"#2a3f5f\"},\"baxis\":{\"endlinecolor\":\"#2a3f5f\",\"gridcolor\":\"white\",\"linecolor\":\"white\",\"minorgridcolor\":\"white\",\"startlinecolor\":\"#2a3f5f\"},\"type\":\"carpet\"}],\"table\":[{\"cells\":{\"fill\":{\"color\":\"#EBF0F8\"},\"line\":{\"color\":\"white\"}},\"header\":{\"fill\":{\"color\":\"#C8D4E3\"},\"line\":{\"color\":\"white\"}},\"type\":\"table\"}],\"barpolar\":[{\"marker\":{\"line\":{\"color\":\"#E5ECF6\",\"width\":0.5},\"pattern\":{\"fillmode\":\"overlay\",\"size\":10,\"solidity\":0.2}},\"type\":\"barpolar\"}],\"pie\":[{\"automargin\":true,\"type\":\"pie\"}]},\"layout\":{\"autotypenumbers\":\"strict\",\"colorway\":[\"#636efa\",\"#EF553B\",\"#00cc96\",\"#ab63fa\",\"#FFA15A\",\"#19d3f3\",\"#FF6692\",\"#B6E880\",\"#FF97FF\",\"#FECB52\"],\"font\":{\"color\":\"#2a3f5f\"},\"hovermode\":\"closest\",\"hoverlabel\":{\"align\":\"left\"},\"paper_bgcolor\":\"white\",\"plot_bgcolor\":\"#E5ECF6\",\"polar\":{\"bgcolor\":\"#E5ECF6\",\"angularaxis\":{\"gridcolor\":\"white\",\"linecolor\":\"white\",\"ticks\":\"\"},\"radialaxis\":{\"gridcolor\":\"white\",\"linecolor\":\"white\",\"ticks\":\"\"}},\"ternary\":{\"bgcolor\":\"#E5ECF6\",\"aaxis\":{\"gridcolor\":\"white\",\"linecolor\":\"white\",\"ticks\":\"\"},\"baxis\":{\"gridcolor\":\"white\",\"linecolor\":\"white\",\"ticks\":\"\"},\"caxis\":{\"gridcolor\":\"white\",\"linecolor\":\"white\",\"ticks\":\"\"}},\"coloraxis\":{\"colorbar\":{\"outlinewidth\":0,\"ticks\":\"\"}},\"colorscale\":{\"sequential\":[[0.0,\"#0d0887\"],[0.1111111111111111,\"#46039f\"],[0.2222222222222222,\"#7201a8\"],[0.3333333333333333,\"#9c179e\"],[0.4444444444444444,\"#bd3786\"],[0.5555555555555556,\"#d8576b\"],[0.6666666666666666,\"#ed7953\"],[0.7777777777777778,\"#fb9f3a\"],[0.8888888888888888,\"#fdca26\"],[1.0,\"#f0f921\"]],\"sequentialminus\":[[0.0,\"#0d0887\"],[0.1111111111111111,\"#46039f\"],[0.2222222222222222,\"#7201a8\"],[0.3333333333333333,\"#9c179e\"],[0.4444444444444444,\"#bd3786\"],[0.5555555555555556,\"#d8576b\"],[0.6666666666666666,\"#ed7953\"],[0.7777777777777778,\"#fb9f3a\"],[0.8888888888888888,\"#fdca26\"],[1.0,\"#f0f921\"]],\"diverging\":[[0,\"#8e0152\"],[0.1,\"#c51b7d\"],[0.2,\"#de77ae\"],[0.3,\"#f1b6da\"],[0.4,\"#fde0ef\"],[0.5,\"#f7f7f7\"],[0.6,\"#e6f5d0\"],[0.7,\"#b8e186\"],[0.8,\"#7fbc41\"],[0.9,\"#4d9221\"],[1,\"#276419\"]]},\"xaxis\":{\"gridcolor\":\"white\",\"linecolor\":\"white\",\"ticks\":\"\",\"title\":{\"standoff\":15},\"zerolinecolor\":\"white\",\"automargin\":true,\"zerolinewidth\":2},\"yaxis\":{\"gridcolor\":\"white\",\"linecolor\":\"white\",\"ticks\":\"\",\"title\":{\"standoff\":15},\"zerolinecolor\":\"white\",\"automargin\":true,\"zerolinewidth\":2},\"scene\":{\"xaxis\":{\"backgroundcolor\":\"#E5ECF6\",\"gridcolor\":\"white\",\"linecolor\":\"white\",\"showbackground\":true,\"ticks\":\"\",\"zerolinecolor\":\"white\",\"gridwidth\":2},\"yaxis\":{\"backgroundcolor\":\"#E5ECF6\",\"gridcolor\":\"white\",\"linecolor\":\"white\",\"showbackground\":true,\"ticks\":\"\",\"zerolinecolor\":\"white\",\"gridwidth\":2},\"zaxis\":{\"backgroundcolor\":\"#E5ECF6\",\"gridcolor\":\"white\",\"linecolor\":\"white\",\"showbackground\":true,\"ticks\":\"\",\"zerolinecolor\":\"white\",\"gridwidth\":2}},\"shapedefaults\":{\"line\":{\"color\":\"#2a3f5f\"}},\"annotationdefaults\":{\"arrowcolor\":\"#2a3f5f\",\"arrowhead\":0,\"arrowwidth\":1},\"geo\":{\"bgcolor\":\"white\",\"landcolor\":\"#E5ECF6\",\"subunitcolor\":\"white\",\"showland\":true,\"showlakes\":true,\"lakecolor\":\"white\"},\"title\":{\"x\":0.05},\"mapbox\":{\"style\":\"light\"}}},\"geo\":{\"domain\":{\"x\":[0.0,1.0],\"y\":[0.0,1.0]},\"center\":{}},\"coloraxis\":{\"colorbar\":{\"title\":{\"text\":\"HDI 2020\"}},\"colorscale\":[[0.0,\"#440154\"],[0.1111111111111111,\"#482878\"],[0.2222222222222222,\"#3e4989\"],[0.3333333333333333,\"#31688e\"],[0.4444444444444444,\"#26828e\"],[0.5555555555555556,\"#1f9e89\"],[0.6666666666666666,\"#35b779\"],[0.7777777777777778,\"#6ece58\"],[0.8888888888888888,\"#b5de2b\"],[1.0,\"#fde725\"]]},\"legend\":{\"tracegroupgap\":0},\"title\":{\"text\":\"Human Development Index 2020\"}},                        {\"responsive\": true}                    ).then(function(){\n",
       "                            \n",
       "var gd = document.getElementById('ea292d7f-bf05-431e-90b5-e1366cd8b881');\n",
       "var x = new MutationObserver(function (mutations, observer) {{\n",
       "        var display = window.getComputedStyle(gd).display;\n",
       "        if (!display || display === 'none') {{\n",
       "            console.log([gd, 'removed!']);\n",
       "            Plotly.purge(gd);\n",
       "            observer.disconnect();\n",
       "        }}\n",
       "}});\n",
       "\n",
       "// Listen for the removal of the full notebook cells\n",
       "var notebookContainer = gd.closest('#notebook-container');\n",
       "if (notebookContainer) {{\n",
       "    x.observe(notebookContainer, {childList: true});\n",
       "}}\n",
       "\n",
       "// Listen for the clearing of the current output cell\n",
       "var outputEl = gd.closest('.output');\n",
       "if (outputEl) {{\n",
       "    x.observe(outputEl, {childList: true});\n",
       "}}\n",
       "\n",
       "                        })                };                });            </script>        </div>"
      ]
     },
     "metadata": {},
     "output_type": "display_data"
    }
   ],
   "source": [
    "fig_happiness_map = px.choropleth(data, locations='country', locationmode='country names',\n",
    "                                  color='Hdi2020',\n",
    "                                  title='Human Development Index 2020',\n",
    "                                  color_continuous_scale='Viridis',\n",
    "                                  labels={'Hdi2020': 'HDI 2020'})\n",
    "\n",
    "# Display the map\n",
    "fig_happiness_map.show()"
   ]
  },
  {
   "cell_type": "code",
   "execution_count": 18,
   "id": "c879eeeb",
   "metadata": {
    "execution": {
     "iopub.execute_input": "2024-01-14T14:03:46.396895Z",
     "iopub.status.busy": "2024-01-14T14:03:46.396401Z",
     "iopub.status.idle": "2024-01-14T14:03:46.470726Z",
     "shell.execute_reply": "2024-01-14T14:03:46.469785Z"
    },
    "papermill": {
     "duration": 0.098963,
     "end_time": "2024-01-14T14:03:46.473078",
     "exception": false,
     "start_time": "2024-01-14T14:03:46.374115",
     "status": "completed"
    },
    "tags": []
   },
   "outputs": [
    {
     "data": {
      "text/html": [
       "<div>                            <div id=\"36826e0b-cbbd-412f-9555-70bb67251cfe\" class=\"plotly-graph-div\" style=\"height:525px; width:100%;\"></div>            <script type=\"text/javascript\">                require([\"plotly\"], function(Plotly) {                    window.PLOTLYENV=window.PLOTLYENV || {};                                    if (document.getElementById(\"36826e0b-cbbd-412f-9555-70bb67251cfe\")) {                    Plotly.newPlot(                        \"36826e0b-cbbd-412f-9555-70bb67251cfe\",                        [{\"coloraxis\":\"coloraxis\",\"geo\":\"geo\",\"hovertemplate\":\"country=%{location}\\u003cbr\\u003eHDI 2021=%{z}\\u003cextra\\u003e\\u003c\\u002fextra\\u003e\",\"locationmode\":\"country names\",\"locations\":[\"India\",\"China\",\"United States\",\"Indonesia\",\"Pakistan\",\"Nigeria\",\"Brazil\",\"Bangladesh\",\"Russia\",\"Ethiopia\",\"Mexico\",\"Japan\",\"Philippines\",\"Egypt\",\"Vietnam\",\"Turkey\",\"Germany\",\"Thailand\",\"Tanzania\",\"United Kingdom\",\"France\",\"South Africa\",\"Italy\",\"Kenya\",\"Myanmar\",\"Colombia\",\"South Korea\",\"Uganda\",\"Sudan\",\"Spain\",\"Iraq\",\"Algeria\",\"Argentina\",\"Afghanistan\",\"Poland\",\"Canada\",\"Morocco\",\"Ukraine\",\"Saudi Arabia\",\"Uzbekistan\",\"Yemen\",\"Mozambique\",\"Ghana\",\"Peru\",\"Malaysia\",\"Nepal\",\"Madagascar\",\"Ivory Coast\",\"Cameroon\",\"Niger\",\"Australia\",\"Mali\",\"Burkina Faso\",\"Sri Lanka\",\"Malawi\",\"Zambia\",\"Kazakhstan\",\"Chile\",\"Romania\",\"Chad\",\"Ecuador\",\"Guatemala\",\"Senegal\",\"Netherlands\",\"Cambodia\",\"Zimbabwe\",\"Rwanda\",\"Benin\",\"Bolivia\",\"Tunisia\",\"Belgium\",\"Dominican Republic\",\"Jordan\",\"Honduras\",\"Sweden\",\"Czech Republic\",\"Azerbaijan\",\"Tajikistan\",\"Greece\",\"Portugal\",\"Hungary\",\"United Arab Emirates\",\"Belarus\",\"Israel\",\"Togo\",\"Sierra Leone\",\"Austria\",\"Switzerland\",\"Laos\",\"Hong Kong\",\"Nicaragua\",\"Serbia\",\"Libya\",\"Paraguay\",\"Kyrgyzstan\",\"Bulgaria\",\"Turkmenistan\",\"El Salvador\",\"Republic of the Congo\",\"Singapore\",\"Denmark\",\"Slovakia\",\"Finland\",\"Liberia\",\"Norway\",\"Palestine\",\"New Zealand\",\"Costa Rica\",\"Lebanon\",\"Ireland\",\"Mauritania\",\"Panama\",\"Kuwait\",\"Croatia\",\"Georgia\",\"Mongolia\",\"Uruguay\",\"Moldova\",\"Bosnia and Herzegovina\",\"Gambia\",\"Albania\",\"Jamaica\",\"Armenia\",\"Botswana\",\"Lithuania\",\"Namibia\",\"Gabon\",\"Lesotho\",\"Slovenia\",\"North Macedonia\",\"Latvia\",\"Bahrain\",\"Estonia\",\"Mauritius\",\"Cyprus\",\"Eswatini\",\"Comoros\",\"Luxembourg\",\"Montenegro\",\"Malta\",\"Iceland\"],\"name\":\"\",\"z\":[0.633,0.768,0.921,0.705,0.544,0.535,0.754,0.661,0.829,0.498,0.758,0.925,0.699,0.731,0.703,0.838,0.942,0.8,0.549,0.929,0.903,0.713,0.895,0.575,0.585,0.752,0.925,0.525,0.508,0.905,0.686,0.745,0.842,0.478,0.876,0.936,0.683,0.773,0.875,0.727,0.455,0.446,0.632,0.762,0.803,0.602,0.501,0.55,0.576,0.4,0.951,0.428,0.449,0.782,0.512,0.565,0.811,0.855,0.821,0.394,0.74,0.627,0.511,0.941,0.593,0.593,0.534,0.525,0.692,0.731,0.937,0.767,0.72,0.621,0.947,0.889,0.745,0.685,0.887,0.866,0.846,0.911,0.808,0.919,0.539,0.477,0.916,0.962,0.607,0.952,0.667,0.802,0.718,0.717,0.692,0.795,0.745,0.675,0.571,0.939,0.948,0.848,0.94,0.481,0.961,0.715,0.937,0.809,0.706,0.945,0.556,0.805,0.831,0.858,0.802,0.739,0.809,0.767,0.78,0.5,0.796,0.709,0.759,0.693,0.875,0.615,0.706,0.514,0.918,0.77,0.863,0.875,0.89,0.802,0.896,0.597,0.558,0.93,0.832,0.918,0.959],\"type\":\"choropleth\"}],                        {\"template\":{\"data\":{\"histogram2dcontour\":[{\"type\":\"histogram2dcontour\",\"colorbar\":{\"outlinewidth\":0,\"ticks\":\"\"},\"colorscale\":[[0.0,\"#0d0887\"],[0.1111111111111111,\"#46039f\"],[0.2222222222222222,\"#7201a8\"],[0.3333333333333333,\"#9c179e\"],[0.4444444444444444,\"#bd3786\"],[0.5555555555555556,\"#d8576b\"],[0.6666666666666666,\"#ed7953\"],[0.7777777777777778,\"#fb9f3a\"],[0.8888888888888888,\"#fdca26\"],[1.0,\"#f0f921\"]]}],\"choropleth\":[{\"type\":\"choropleth\",\"colorbar\":{\"outlinewidth\":0,\"ticks\":\"\"}}],\"histogram2d\":[{\"type\":\"histogram2d\",\"colorbar\":{\"outlinewidth\":0,\"ticks\":\"\"},\"colorscale\":[[0.0,\"#0d0887\"],[0.1111111111111111,\"#46039f\"],[0.2222222222222222,\"#7201a8\"],[0.3333333333333333,\"#9c179e\"],[0.4444444444444444,\"#bd3786\"],[0.5555555555555556,\"#d8576b\"],[0.6666666666666666,\"#ed7953\"],[0.7777777777777778,\"#fb9f3a\"],[0.8888888888888888,\"#fdca26\"],[1.0,\"#f0f921\"]]}],\"heatmap\":[{\"type\":\"heatmap\",\"colorbar\":{\"outlinewidth\":0,\"ticks\":\"\"},\"colorscale\":[[0.0,\"#0d0887\"],[0.1111111111111111,\"#46039f\"],[0.2222222222222222,\"#7201a8\"],[0.3333333333333333,\"#9c179e\"],[0.4444444444444444,\"#bd3786\"],[0.5555555555555556,\"#d8576b\"],[0.6666666666666666,\"#ed7953\"],[0.7777777777777778,\"#fb9f3a\"],[0.8888888888888888,\"#fdca26\"],[1.0,\"#f0f921\"]]}],\"heatmapgl\":[{\"type\":\"heatmapgl\",\"colorbar\":{\"outlinewidth\":0,\"ticks\":\"\"},\"colorscale\":[[0.0,\"#0d0887\"],[0.1111111111111111,\"#46039f\"],[0.2222222222222222,\"#7201a8\"],[0.3333333333333333,\"#9c179e\"],[0.4444444444444444,\"#bd3786\"],[0.5555555555555556,\"#d8576b\"],[0.6666666666666666,\"#ed7953\"],[0.7777777777777778,\"#fb9f3a\"],[0.8888888888888888,\"#fdca26\"],[1.0,\"#f0f921\"]]}],\"contourcarpet\":[{\"type\":\"contourcarpet\",\"colorbar\":{\"outlinewidth\":0,\"ticks\":\"\"}}],\"contour\":[{\"type\":\"contour\",\"colorbar\":{\"outlinewidth\":0,\"ticks\":\"\"},\"colorscale\":[[0.0,\"#0d0887\"],[0.1111111111111111,\"#46039f\"],[0.2222222222222222,\"#7201a8\"],[0.3333333333333333,\"#9c179e\"],[0.4444444444444444,\"#bd3786\"],[0.5555555555555556,\"#d8576b\"],[0.6666666666666666,\"#ed7953\"],[0.7777777777777778,\"#fb9f3a\"],[0.8888888888888888,\"#fdca26\"],[1.0,\"#f0f921\"]]}],\"surface\":[{\"type\":\"surface\",\"colorbar\":{\"outlinewidth\":0,\"ticks\":\"\"},\"colorscale\":[[0.0,\"#0d0887\"],[0.1111111111111111,\"#46039f\"],[0.2222222222222222,\"#7201a8\"],[0.3333333333333333,\"#9c179e\"],[0.4444444444444444,\"#bd3786\"],[0.5555555555555556,\"#d8576b\"],[0.6666666666666666,\"#ed7953\"],[0.7777777777777778,\"#fb9f3a\"],[0.8888888888888888,\"#fdca26\"],[1.0,\"#f0f921\"]]}],\"mesh3d\":[{\"type\":\"mesh3d\",\"colorbar\":{\"outlinewidth\":0,\"ticks\":\"\"}}],\"scatter\":[{\"fillpattern\":{\"fillmode\":\"overlay\",\"size\":10,\"solidity\":0.2},\"type\":\"scatter\"}],\"parcoords\":[{\"type\":\"parcoords\",\"line\":{\"colorbar\":{\"outlinewidth\":0,\"ticks\":\"\"}}}],\"scatterpolargl\":[{\"type\":\"scatterpolargl\",\"marker\":{\"colorbar\":{\"outlinewidth\":0,\"ticks\":\"\"}}}],\"bar\":[{\"error_x\":{\"color\":\"#2a3f5f\"},\"error_y\":{\"color\":\"#2a3f5f\"},\"marker\":{\"line\":{\"color\":\"#E5ECF6\",\"width\":0.5},\"pattern\":{\"fillmode\":\"overlay\",\"size\":10,\"solidity\":0.2}},\"type\":\"bar\"}],\"scattergeo\":[{\"type\":\"scattergeo\",\"marker\":{\"colorbar\":{\"outlinewidth\":0,\"ticks\":\"\"}}}],\"scatterpolar\":[{\"type\":\"scatterpolar\",\"marker\":{\"colorbar\":{\"outlinewidth\":0,\"ticks\":\"\"}}}],\"histogram\":[{\"marker\":{\"pattern\":{\"fillmode\":\"overlay\",\"size\":10,\"solidity\":0.2}},\"type\":\"histogram\"}],\"scattergl\":[{\"type\":\"scattergl\",\"marker\":{\"colorbar\":{\"outlinewidth\":0,\"ticks\":\"\"}}}],\"scatter3d\":[{\"type\":\"scatter3d\",\"line\":{\"colorbar\":{\"outlinewidth\":0,\"ticks\":\"\"}},\"marker\":{\"colorbar\":{\"outlinewidth\":0,\"ticks\":\"\"}}}],\"scattermapbox\":[{\"type\":\"scattermapbox\",\"marker\":{\"colorbar\":{\"outlinewidth\":0,\"ticks\":\"\"}}}],\"scatterternary\":[{\"type\":\"scatterternary\",\"marker\":{\"colorbar\":{\"outlinewidth\":0,\"ticks\":\"\"}}}],\"scattercarpet\":[{\"type\":\"scattercarpet\",\"marker\":{\"colorbar\":{\"outlinewidth\":0,\"ticks\":\"\"}}}],\"carpet\":[{\"aaxis\":{\"endlinecolor\":\"#2a3f5f\",\"gridcolor\":\"white\",\"linecolor\":\"white\",\"minorgridcolor\":\"white\",\"startlinecolor\":\"#2a3f5f\"},\"baxis\":{\"endlinecolor\":\"#2a3f5f\",\"gridcolor\":\"white\",\"linecolor\":\"white\",\"minorgridcolor\":\"white\",\"startlinecolor\":\"#2a3f5f\"},\"type\":\"carpet\"}],\"table\":[{\"cells\":{\"fill\":{\"color\":\"#EBF0F8\"},\"line\":{\"color\":\"white\"}},\"header\":{\"fill\":{\"color\":\"#C8D4E3\"},\"line\":{\"color\":\"white\"}},\"type\":\"table\"}],\"barpolar\":[{\"marker\":{\"line\":{\"color\":\"#E5ECF6\",\"width\":0.5},\"pattern\":{\"fillmode\":\"overlay\",\"size\":10,\"solidity\":0.2}},\"type\":\"barpolar\"}],\"pie\":[{\"automargin\":true,\"type\":\"pie\"}]},\"layout\":{\"autotypenumbers\":\"strict\",\"colorway\":[\"#636efa\",\"#EF553B\",\"#00cc96\",\"#ab63fa\",\"#FFA15A\",\"#19d3f3\",\"#FF6692\",\"#B6E880\",\"#FF97FF\",\"#FECB52\"],\"font\":{\"color\":\"#2a3f5f\"},\"hovermode\":\"closest\",\"hoverlabel\":{\"align\":\"left\"},\"paper_bgcolor\":\"white\",\"plot_bgcolor\":\"#E5ECF6\",\"polar\":{\"bgcolor\":\"#E5ECF6\",\"angularaxis\":{\"gridcolor\":\"white\",\"linecolor\":\"white\",\"ticks\":\"\"},\"radialaxis\":{\"gridcolor\":\"white\",\"linecolor\":\"white\",\"ticks\":\"\"}},\"ternary\":{\"bgcolor\":\"#E5ECF6\",\"aaxis\":{\"gridcolor\":\"white\",\"linecolor\":\"white\",\"ticks\":\"\"},\"baxis\":{\"gridcolor\":\"white\",\"linecolor\":\"white\",\"ticks\":\"\"},\"caxis\":{\"gridcolor\":\"white\",\"linecolor\":\"white\",\"ticks\":\"\"}},\"coloraxis\":{\"colorbar\":{\"outlinewidth\":0,\"ticks\":\"\"}},\"colorscale\":{\"sequential\":[[0.0,\"#0d0887\"],[0.1111111111111111,\"#46039f\"],[0.2222222222222222,\"#7201a8\"],[0.3333333333333333,\"#9c179e\"],[0.4444444444444444,\"#bd3786\"],[0.5555555555555556,\"#d8576b\"],[0.6666666666666666,\"#ed7953\"],[0.7777777777777778,\"#fb9f3a\"],[0.8888888888888888,\"#fdca26\"],[1.0,\"#f0f921\"]],\"sequentialminus\":[[0.0,\"#0d0887\"],[0.1111111111111111,\"#46039f\"],[0.2222222222222222,\"#7201a8\"],[0.3333333333333333,\"#9c179e\"],[0.4444444444444444,\"#bd3786\"],[0.5555555555555556,\"#d8576b\"],[0.6666666666666666,\"#ed7953\"],[0.7777777777777778,\"#fb9f3a\"],[0.8888888888888888,\"#fdca26\"],[1.0,\"#f0f921\"]],\"diverging\":[[0,\"#8e0152\"],[0.1,\"#c51b7d\"],[0.2,\"#de77ae\"],[0.3,\"#f1b6da\"],[0.4,\"#fde0ef\"],[0.5,\"#f7f7f7\"],[0.6,\"#e6f5d0\"],[0.7,\"#b8e186\"],[0.8,\"#7fbc41\"],[0.9,\"#4d9221\"],[1,\"#276419\"]]},\"xaxis\":{\"gridcolor\":\"white\",\"linecolor\":\"white\",\"ticks\":\"\",\"title\":{\"standoff\":15},\"zerolinecolor\":\"white\",\"automargin\":true,\"zerolinewidth\":2},\"yaxis\":{\"gridcolor\":\"white\",\"linecolor\":\"white\",\"ticks\":\"\",\"title\":{\"standoff\":15},\"zerolinecolor\":\"white\",\"automargin\":true,\"zerolinewidth\":2},\"scene\":{\"xaxis\":{\"backgroundcolor\":\"#E5ECF6\",\"gridcolor\":\"white\",\"linecolor\":\"white\",\"showbackground\":true,\"ticks\":\"\",\"zerolinecolor\":\"white\",\"gridwidth\":2},\"yaxis\":{\"backgroundcolor\":\"#E5ECF6\",\"gridcolor\":\"white\",\"linecolor\":\"white\",\"showbackground\":true,\"ticks\":\"\",\"zerolinecolor\":\"white\",\"gridwidth\":2},\"zaxis\":{\"backgroundcolor\":\"#E5ECF6\",\"gridcolor\":\"white\",\"linecolor\":\"white\",\"showbackground\":true,\"ticks\":\"\",\"zerolinecolor\":\"white\",\"gridwidth\":2}},\"shapedefaults\":{\"line\":{\"color\":\"#2a3f5f\"}},\"annotationdefaults\":{\"arrowcolor\":\"#2a3f5f\",\"arrowhead\":0,\"arrowwidth\":1},\"geo\":{\"bgcolor\":\"white\",\"landcolor\":\"#E5ECF6\",\"subunitcolor\":\"white\",\"showland\":true,\"showlakes\":true,\"lakecolor\":\"white\"},\"title\":{\"x\":0.05},\"mapbox\":{\"style\":\"light\"}}},\"geo\":{\"domain\":{\"x\":[0.0,1.0],\"y\":[0.0,1.0]},\"center\":{}},\"coloraxis\":{\"colorbar\":{\"title\":{\"text\":\"HDI 2021\"}},\"colorscale\":[[0.0,\"#440154\"],[0.1111111111111111,\"#482878\"],[0.2222222222222222,\"#3e4989\"],[0.3333333333333333,\"#31688e\"],[0.4444444444444444,\"#26828e\"],[0.5555555555555556,\"#1f9e89\"],[0.6666666666666666,\"#35b779\"],[0.7777777777777778,\"#6ece58\"],[0.8888888888888888,\"#b5de2b\"],[1.0,\"#fde725\"]]},\"legend\":{\"tracegroupgap\":0},\"title\":{\"text\":\"Human Development Index 2021\"}},                        {\"responsive\": true}                    ).then(function(){\n",
       "                            \n",
       "var gd = document.getElementById('36826e0b-cbbd-412f-9555-70bb67251cfe');\n",
       "var x = new MutationObserver(function (mutations, observer) {{\n",
       "        var display = window.getComputedStyle(gd).display;\n",
       "        if (!display || display === 'none') {{\n",
       "            console.log([gd, 'removed!']);\n",
       "            Plotly.purge(gd);\n",
       "            observer.disconnect();\n",
       "        }}\n",
       "}});\n",
       "\n",
       "// Listen for the removal of the full notebook cells\n",
       "var notebookContainer = gd.closest('#notebook-container');\n",
       "if (notebookContainer) {{\n",
       "    x.observe(notebookContainer, {childList: true});\n",
       "}}\n",
       "\n",
       "// Listen for the clearing of the current output cell\n",
       "var outputEl = gd.closest('.output');\n",
       "if (outputEl) {{\n",
       "    x.observe(outputEl, {childList: true});\n",
       "}}\n",
       "\n",
       "                        })                };                });            </script>        </div>"
      ]
     },
     "metadata": {},
     "output_type": "display_data"
    }
   ],
   "source": [
    "fig_happiness_map = px.choropleth(data, locations='country', locationmode='country names',\n",
    "                                  color='Hdi2021',\n",
    "                                  title='Human Development Index 2021',\n",
    "                                  color_continuous_scale='Viridis',\n",
    "                                  labels={'Hdi2021': 'HDI 2021'})\n",
    "\n",
    "# Display the map\n",
    "fig_happiness_map.show()"
   ]
  },
  {
   "cell_type": "code",
   "execution_count": 19,
   "id": "d1069b80",
   "metadata": {
    "execution": {
     "iopub.execute_input": "2024-01-14T14:03:46.512720Z",
     "iopub.status.busy": "2024-01-14T14:03:46.511682Z",
     "iopub.status.idle": "2024-01-14T14:03:46.548631Z",
     "shell.execute_reply": "2024-01-14T14:03:46.547221Z"
    },
    "papermill": {
     "duration": 0.061406,
     "end_time": "2024-01-14T14:03:46.552038",
     "exception": false,
     "start_time": "2024-01-14T14:03:46.490632",
     "status": "completed"
    },
    "tags": []
   },
   "outputs": [
    {
     "data": {
      "text/html": [
       "<div>\n",
       "<style scoped>\n",
       "    .dataframe tbody tr th:only-of-type {\n",
       "        vertical-align: middle;\n",
       "    }\n",
       "\n",
       "    .dataframe tbody tr th {\n",
       "        vertical-align: top;\n",
       "    }\n",
       "\n",
       "    .dataframe thead th {\n",
       "        text-align: right;\n",
       "    }\n",
       "</style>\n",
       "<table border=\"1\" class=\"dataframe\">\n",
       "  <thead>\n",
       "    <tr style=\"text-align: right;\">\n",
       "      <th></th>\n",
       "      <th>region</th>\n",
       "      <th>unMember</th>\n",
       "      <th>WorldHappiness2022</th>\n",
       "    </tr>\n",
       "  </thead>\n",
       "  <tbody>\n",
       "    <tr>\n",
       "      <th>0</th>\n",
       "      <td>Oceania</td>\n",
       "      <td>True</td>\n",
       "      <td>7.162</td>\n",
       "    </tr>\n",
       "    <tr>\n",
       "      <th>1</th>\n",
       "      <td>North America</td>\n",
       "      <td>True</td>\n",
       "      <td>6.977</td>\n",
       "    </tr>\n",
       "    <tr>\n",
       "      <th>2</th>\n",
       "      <td>South America</td>\n",
       "      <td>True</td>\n",
       "      <td>6.293</td>\n",
       "    </tr>\n",
       "    <tr>\n",
       "      <th>3</th>\n",
       "      <td>Asia</td>\n",
       "      <td>False</td>\n",
       "      <td>5.425</td>\n",
       "    </tr>\n",
       "    <tr>\n",
       "      <th>4</th>\n",
       "      <td>Asia</td>\n",
       "      <td>True</td>\n",
       "      <td>5.377</td>\n",
       "    </tr>\n",
       "    <tr>\n",
       "      <th>5</th>\n",
       "      <td>Europe</td>\n",
       "      <td>True</td>\n",
       "      <td>5.199</td>\n",
       "    </tr>\n",
       "    <tr>\n",
       "      <th>6</th>\n",
       "      <td>Africa</td>\n",
       "      <td>True</td>\n",
       "      <td>5.048</td>\n",
       "    </tr>\n",
       "  </tbody>\n",
       "</table>\n",
       "</div>"
      ],
      "text/plain": [
       "          region  unMember  WorldHappiness2022\n",
       "0        Oceania      True               7.162\n",
       "1  North America      True               6.977\n",
       "2  South America      True               6.293\n",
       "3           Asia     False               5.425\n",
       "4           Asia      True               5.377\n",
       "5         Europe      True               5.199\n",
       "6         Africa      True               5.048"
      ]
     },
     "execution_count": 19,
     "metadata": {},
     "output_type": "execute_result"
    }
   ],
   "source": [
    "region_g_r = data.groupby(['region','unMember'])['WorldHappiness2022'].apply(lambda x: x.value_counts().idxmax()).sort_values(ascending=False).reset_index()\n",
    "region_g_r"
   ]
  },
  {
   "cell_type": "markdown",
   "id": "8fb60b96",
   "metadata": {
    "papermill": {
     "duration": 0.014972,
     "end_time": "2024-01-14T14:03:46.583065",
     "exception": false,
     "start_time": "2024-01-14T14:03:46.568093",
     "status": "completed"
    },
    "tags": []
   },
   "source": [
    "* #### Oceania is the most happiness region in 2022 with World Happiness score is 7.162 point"
   ]
  },
  {
   "cell_type": "code",
   "execution_count": 20,
   "id": "831ff5e8",
   "metadata": {
    "execution": {
     "iopub.execute_input": "2024-01-14T14:03:46.616593Z",
     "iopub.status.busy": "2024-01-14T14:03:46.616137Z",
     "iopub.status.idle": "2024-01-14T14:03:46.692942Z",
     "shell.execute_reply": "2024-01-14T14:03:46.691541Z"
    },
    "papermill": {
     "duration": 0.09739,
     "end_time": "2024-01-14T14:03:46.696024",
     "exception": false,
     "start_time": "2024-01-14T14:03:46.598634",
     "status": "completed"
    },
    "tags": []
   },
   "outputs": [
    {
     "data": {
      "text/html": [
       "<div>\n",
       "<style scoped>\n",
       "    .dataframe tbody tr th:only-of-type {\n",
       "        vertical-align: middle;\n",
       "    }\n",
       "\n",
       "    .dataframe tbody tr th {\n",
       "        vertical-align: top;\n",
       "    }\n",
       "\n",
       "    .dataframe thead th {\n",
       "        text-align: right;\n",
       "    }\n",
       "</style>\n",
       "<table border=\"1\" class=\"dataframe\">\n",
       "  <thead>\n",
       "    <tr style=\"text-align: right;\">\n",
       "      <th></th>\n",
       "      <th>country</th>\n",
       "      <th>unMember</th>\n",
       "      <th>WorldHappiness2022</th>\n",
       "    </tr>\n",
       "  </thead>\n",
       "  <tbody>\n",
       "    <tr>\n",
       "      <th>0</th>\n",
       "      <td>Finland</td>\n",
       "      <td>True</td>\n",
       "      <td>7.821</td>\n",
       "    </tr>\n",
       "    <tr>\n",
       "      <th>1</th>\n",
       "      <td>Denmark</td>\n",
       "      <td>True</td>\n",
       "      <td>7.636</td>\n",
       "    </tr>\n",
       "    <tr>\n",
       "      <th>2</th>\n",
       "      <td>Iceland</td>\n",
       "      <td>True</td>\n",
       "      <td>7.557</td>\n",
       "    </tr>\n",
       "    <tr>\n",
       "      <th>3</th>\n",
       "      <td>Switzerland</td>\n",
       "      <td>True</td>\n",
       "      <td>7.512</td>\n",
       "    </tr>\n",
       "    <tr>\n",
       "      <th>4</th>\n",
       "      <td>Netherlands</td>\n",
       "      <td>True</td>\n",
       "      <td>7.415</td>\n",
       "    </tr>\n",
       "    <tr>\n",
       "      <th>5</th>\n",
       "      <td>Luxembourg</td>\n",
       "      <td>True</td>\n",
       "      <td>7.404</td>\n",
       "    </tr>\n",
       "    <tr>\n",
       "      <th>6</th>\n",
       "      <td>Sweden</td>\n",
       "      <td>True</td>\n",
       "      <td>7.384</td>\n",
       "    </tr>\n",
       "    <tr>\n",
       "      <th>7</th>\n",
       "      <td>Norway</td>\n",
       "      <td>True</td>\n",
       "      <td>7.365</td>\n",
       "    </tr>\n",
       "    <tr>\n",
       "      <th>8</th>\n",
       "      <td>Israel</td>\n",
       "      <td>True</td>\n",
       "      <td>7.364</td>\n",
       "    </tr>\n",
       "    <tr>\n",
       "      <th>9</th>\n",
       "      <td>New Zealand</td>\n",
       "      <td>True</td>\n",
       "      <td>7.200</td>\n",
       "    </tr>\n",
       "    <tr>\n",
       "      <th>10</th>\n",
       "      <td>Austria</td>\n",
       "      <td>True</td>\n",
       "      <td>7.163</td>\n",
       "    </tr>\n",
       "    <tr>\n",
       "      <th>11</th>\n",
       "      <td>Australia</td>\n",
       "      <td>True</td>\n",
       "      <td>7.162</td>\n",
       "    </tr>\n",
       "    <tr>\n",
       "      <th>12</th>\n",
       "      <td>Ireland</td>\n",
       "      <td>True</td>\n",
       "      <td>7.041</td>\n",
       "    </tr>\n",
       "    <tr>\n",
       "      <th>13</th>\n",
       "      <td>Germany</td>\n",
       "      <td>True</td>\n",
       "      <td>7.034</td>\n",
       "    </tr>\n",
       "    <tr>\n",
       "      <th>14</th>\n",
       "      <td>Canada</td>\n",
       "      <td>True</td>\n",
       "      <td>7.025</td>\n",
       "    </tr>\n",
       "    <tr>\n",
       "      <th>15</th>\n",
       "      <td>United States</td>\n",
       "      <td>True</td>\n",
       "      <td>6.977</td>\n",
       "    </tr>\n",
       "    <tr>\n",
       "      <th>16</th>\n",
       "      <td>United Kingdom</td>\n",
       "      <td>True</td>\n",
       "      <td>6.943</td>\n",
       "    </tr>\n",
       "    <tr>\n",
       "      <th>17</th>\n",
       "      <td>Czech Republic</td>\n",
       "      <td>True</td>\n",
       "      <td>6.920</td>\n",
       "    </tr>\n",
       "    <tr>\n",
       "      <th>18</th>\n",
       "      <td>Belgium</td>\n",
       "      <td>True</td>\n",
       "      <td>6.805</td>\n",
       "    </tr>\n",
       "    <tr>\n",
       "      <th>19</th>\n",
       "      <td>France</td>\n",
       "      <td>True</td>\n",
       "      <td>6.687</td>\n",
       "    </tr>\n",
       "  </tbody>\n",
       "</table>\n",
       "</div>"
      ],
      "text/plain": [
       "           country  unMember  WorldHappiness2022\n",
       "0          Finland      True               7.821\n",
       "1          Denmark      True               7.636\n",
       "2          Iceland      True               7.557\n",
       "3      Switzerland      True               7.512\n",
       "4      Netherlands      True               7.415\n",
       "5       Luxembourg      True               7.404\n",
       "6           Sweden      True               7.384\n",
       "7           Norway      True               7.365\n",
       "8           Israel      True               7.364\n",
       "9      New Zealand      True               7.200\n",
       "10         Austria      True               7.163\n",
       "11       Australia      True               7.162\n",
       "12         Ireland      True               7.041\n",
       "13         Germany      True               7.034\n",
       "14          Canada      True               7.025\n",
       "15   United States      True               6.977\n",
       "16  United Kingdom      True               6.943\n",
       "17  Czech Republic      True               6.920\n",
       "18         Belgium      True               6.805\n",
       "19          France      True               6.687"
      ]
     },
     "execution_count": 20,
     "metadata": {},
     "output_type": "execute_result"
    }
   ],
   "source": [
    "country_g_r = data.groupby(['country','unMember'])['WorldHappiness2022'].apply(lambda x: x.value_counts().idxmax()).sort_values(ascending=False).reset_index().head(20)\n",
    "country_g_r"
   ]
  },
  {
   "cell_type": "markdown",
   "id": "f616fcd9",
   "metadata": {
    "papermill": {
     "duration": 0.017553,
     "end_time": "2024-01-14T14:03:46.730709",
     "exception": false,
     "start_time": "2024-01-14T14:03:46.713156",
     "status": "completed"
    },
    "tags": []
   },
   "source": [
    "* #### Mostly countries in the region of Europe is on the list"
   ]
  },
  {
   "cell_type": "code",
   "execution_count": 21,
   "id": "7c20ecb7",
   "metadata": {
    "execution": {
     "iopub.execute_input": "2024-01-14T14:03:46.767015Z",
     "iopub.status.busy": "2024-01-14T14:03:46.766485Z",
     "iopub.status.idle": "2024-01-14T14:03:46.849738Z",
     "shell.execute_reply": "2024-01-14T14:03:46.848057Z"
    },
    "papermill": {
     "duration": 0.105707,
     "end_time": "2024-01-14T14:03:46.852878",
     "exception": false,
     "start_time": "2024-01-14T14:03:46.747171",
     "status": "completed"
    },
    "tags": []
   },
   "outputs": [
    {
     "data": {
      "text/html": [
       "<div>                            <div id=\"51c7dfc9-7198-46e4-a051-2f15768474d4\" class=\"plotly-graph-div\" style=\"height:525px; width:100%;\"></div>            <script type=\"text/javascript\">                require([\"plotly\"], function(Plotly) {                    window.PLOTLYENV=window.PLOTLYENV || {};                                    if (document.getElementById(\"51c7dfc9-7198-46e4-a051-2f15768474d4\")) {                    Plotly.newPlot(                        \"51c7dfc9-7198-46e4-a051-2f15768474d4\",                        [{\"coloraxis\":\"coloraxis\",\"geo\":\"geo\",\"hovertemplate\":\"country=%{location}\\u003cbr\\u003eWorld Happiness Index=%{z}\\u003cextra\\u003e\\u003c\\u002fextra\\u003e\",\"locationmode\":\"country names\",\"locations\":[\"India\",\"China\",\"United States\",\"Indonesia\",\"Pakistan\",\"Nigeria\",\"Brazil\",\"Bangladesh\",\"Russia\",\"Ethiopia\",\"Mexico\",\"Japan\",\"Philippines\",\"Egypt\",\"Vietnam\",\"Turkey\",\"Germany\",\"Thailand\",\"Tanzania\",\"United Kingdom\",\"France\",\"South Africa\",\"Italy\",\"Kenya\",\"Myanmar\",\"Colombia\",\"South Korea\",\"Uganda\",\"Sudan\",\"Spain\",\"Iraq\",\"Algeria\",\"Argentina\",\"Afghanistan\",\"Poland\",\"Canada\",\"Morocco\",\"Ukraine\",\"Saudi Arabia\",\"Uzbekistan\",\"Yemen\",\"Mozambique\",\"Ghana\",\"Peru\",\"Malaysia\",\"Nepal\",\"Madagascar\",\"Ivory Coast\",\"Cameroon\",\"Niger\",\"Australia\",\"Mali\",\"Burkina Faso\",\"Sri Lanka\",\"Malawi\",\"Zambia\",\"Kazakhstan\",\"Chile\",\"Romania\",\"Chad\",\"Ecuador\",\"Guatemala\",\"Senegal\",\"Netherlands\",\"Cambodia\",\"Zimbabwe\",\"Rwanda\",\"Benin\",\"Bolivia\",\"Tunisia\",\"Belgium\",\"Dominican Republic\",\"Jordan\",\"Honduras\",\"Sweden\",\"Czech Republic\",\"Azerbaijan\",\"Tajikistan\",\"Greece\",\"Portugal\",\"Hungary\",\"United Arab Emirates\",\"Belarus\",\"Israel\",\"Togo\",\"Sierra Leone\",\"Austria\",\"Switzerland\",\"Laos\",\"Hong Kong\",\"Nicaragua\",\"Serbia\",\"Libya\",\"Paraguay\",\"Kyrgyzstan\",\"Bulgaria\",\"Turkmenistan\",\"El Salvador\",\"Republic of the Congo\",\"Singapore\",\"Denmark\",\"Slovakia\",\"Finland\",\"Liberia\",\"Norway\",\"Palestine\",\"New Zealand\",\"Costa Rica\",\"Lebanon\",\"Ireland\",\"Mauritania\",\"Panama\",\"Kuwait\",\"Croatia\",\"Georgia\",\"Mongolia\",\"Uruguay\",\"Moldova\",\"Bosnia and Herzegovina\",\"Gambia\",\"Albania\",\"Jamaica\",\"Armenia\",\"Botswana\",\"Lithuania\",\"Namibia\",\"Gabon\",\"Lesotho\",\"Slovenia\",\"North Macedonia\",\"Latvia\",\"Bahrain\",\"Estonia\",\"Mauritius\",\"Cyprus\",\"Eswatini\",\"Comoros\",\"Luxembourg\",\"Montenegro\",\"Malta\",\"Iceland\"],\"name\":\"\",\"z\":[3.777,5.585,6.977,5.24,4.516,4.552,6.293,5.155,5.459,4.241,6.128,6.039,5.904,4.288,5.485,4.744,7.034,5.891,3.702,6.943,6.687,5.194,6.467,4.543,4.394,5.781,5.935,4.603,4.362,6.476,4.941,5.122,5.967,2.404,6.123,7.025,5.06,5.084,6.523,6.063,4.197,5.048,4.872,5.559,5.711,5.377,4.339,5.235,5.048,5.003,7.162,4.479,4.67,4.0,3.75,3.76,6.234,6.172,6.477,4.251,5.533,6.262,5.046,7.415,4.46,2.995,3.268,4.623,5.6,4.516,6.805,5.737,4.152,6.022,7.384,6.92,5.173,5.377,5.948,6.016,6.086,6.576,5.821,7.364,4.112,3.574,7.163,7.512,5.14,5.425,6.165,6.178,5.33,5.578,5.828,5.371,5.474,6.12,5.075,6.48,7.636,6.391,7.821,5.122,7.365,4.483,7.2,6.582,2.955,7.041,4.153,6.309,6.106,6.125,4.973,5.761,6.474,5.857,5.768,5.164,5.199,5.85,5.399,3.471,6.446,4.459,4.958,3.512,6.63,5.199,6.18,6.647,6.341,6.071,6.221,4.396,4.609,7.404,5.547,6.447,7.557],\"type\":\"choropleth\"}],                        {\"template\":{\"data\":{\"histogram2dcontour\":[{\"type\":\"histogram2dcontour\",\"colorbar\":{\"outlinewidth\":0,\"ticks\":\"\"},\"colorscale\":[[0.0,\"#0d0887\"],[0.1111111111111111,\"#46039f\"],[0.2222222222222222,\"#7201a8\"],[0.3333333333333333,\"#9c179e\"],[0.4444444444444444,\"#bd3786\"],[0.5555555555555556,\"#d8576b\"],[0.6666666666666666,\"#ed7953\"],[0.7777777777777778,\"#fb9f3a\"],[0.8888888888888888,\"#fdca26\"],[1.0,\"#f0f921\"]]}],\"choropleth\":[{\"type\":\"choropleth\",\"colorbar\":{\"outlinewidth\":0,\"ticks\":\"\"}}],\"histogram2d\":[{\"type\":\"histogram2d\",\"colorbar\":{\"outlinewidth\":0,\"ticks\":\"\"},\"colorscale\":[[0.0,\"#0d0887\"],[0.1111111111111111,\"#46039f\"],[0.2222222222222222,\"#7201a8\"],[0.3333333333333333,\"#9c179e\"],[0.4444444444444444,\"#bd3786\"],[0.5555555555555556,\"#d8576b\"],[0.6666666666666666,\"#ed7953\"],[0.7777777777777778,\"#fb9f3a\"],[0.8888888888888888,\"#fdca26\"],[1.0,\"#f0f921\"]]}],\"heatmap\":[{\"type\":\"heatmap\",\"colorbar\":{\"outlinewidth\":0,\"ticks\":\"\"},\"colorscale\":[[0.0,\"#0d0887\"],[0.1111111111111111,\"#46039f\"],[0.2222222222222222,\"#7201a8\"],[0.3333333333333333,\"#9c179e\"],[0.4444444444444444,\"#bd3786\"],[0.5555555555555556,\"#d8576b\"],[0.6666666666666666,\"#ed7953\"],[0.7777777777777778,\"#fb9f3a\"],[0.8888888888888888,\"#fdca26\"],[1.0,\"#f0f921\"]]}],\"heatmapgl\":[{\"type\":\"heatmapgl\",\"colorbar\":{\"outlinewidth\":0,\"ticks\":\"\"},\"colorscale\":[[0.0,\"#0d0887\"],[0.1111111111111111,\"#46039f\"],[0.2222222222222222,\"#7201a8\"],[0.3333333333333333,\"#9c179e\"],[0.4444444444444444,\"#bd3786\"],[0.5555555555555556,\"#d8576b\"],[0.6666666666666666,\"#ed7953\"],[0.7777777777777778,\"#fb9f3a\"],[0.8888888888888888,\"#fdca26\"],[1.0,\"#f0f921\"]]}],\"contourcarpet\":[{\"type\":\"contourcarpet\",\"colorbar\":{\"outlinewidth\":0,\"ticks\":\"\"}}],\"contour\":[{\"type\":\"contour\",\"colorbar\":{\"outlinewidth\":0,\"ticks\":\"\"},\"colorscale\":[[0.0,\"#0d0887\"],[0.1111111111111111,\"#46039f\"],[0.2222222222222222,\"#7201a8\"],[0.3333333333333333,\"#9c179e\"],[0.4444444444444444,\"#bd3786\"],[0.5555555555555556,\"#d8576b\"],[0.6666666666666666,\"#ed7953\"],[0.7777777777777778,\"#fb9f3a\"],[0.8888888888888888,\"#fdca26\"],[1.0,\"#f0f921\"]]}],\"surface\":[{\"type\":\"surface\",\"colorbar\":{\"outlinewidth\":0,\"ticks\":\"\"},\"colorscale\":[[0.0,\"#0d0887\"],[0.1111111111111111,\"#46039f\"],[0.2222222222222222,\"#7201a8\"],[0.3333333333333333,\"#9c179e\"],[0.4444444444444444,\"#bd3786\"],[0.5555555555555556,\"#d8576b\"],[0.6666666666666666,\"#ed7953\"],[0.7777777777777778,\"#fb9f3a\"],[0.8888888888888888,\"#fdca26\"],[1.0,\"#f0f921\"]]}],\"mesh3d\":[{\"type\":\"mesh3d\",\"colorbar\":{\"outlinewidth\":0,\"ticks\":\"\"}}],\"scatter\":[{\"fillpattern\":{\"fillmode\":\"overlay\",\"size\":10,\"solidity\":0.2},\"type\":\"scatter\"}],\"parcoords\":[{\"type\":\"parcoords\",\"line\":{\"colorbar\":{\"outlinewidth\":0,\"ticks\":\"\"}}}],\"scatterpolargl\":[{\"type\":\"scatterpolargl\",\"marker\":{\"colorbar\":{\"outlinewidth\":0,\"ticks\":\"\"}}}],\"bar\":[{\"error_x\":{\"color\":\"#2a3f5f\"},\"error_y\":{\"color\":\"#2a3f5f\"},\"marker\":{\"line\":{\"color\":\"#E5ECF6\",\"width\":0.5},\"pattern\":{\"fillmode\":\"overlay\",\"size\":10,\"solidity\":0.2}},\"type\":\"bar\"}],\"scattergeo\":[{\"type\":\"scattergeo\",\"marker\":{\"colorbar\":{\"outlinewidth\":0,\"ticks\":\"\"}}}],\"scatterpolar\":[{\"type\":\"scatterpolar\",\"marker\":{\"colorbar\":{\"outlinewidth\":0,\"ticks\":\"\"}}}],\"histogram\":[{\"marker\":{\"pattern\":{\"fillmode\":\"overlay\",\"size\":10,\"solidity\":0.2}},\"type\":\"histogram\"}],\"scattergl\":[{\"type\":\"scattergl\",\"marker\":{\"colorbar\":{\"outlinewidth\":0,\"ticks\":\"\"}}}],\"scatter3d\":[{\"type\":\"scatter3d\",\"line\":{\"colorbar\":{\"outlinewidth\":0,\"ticks\":\"\"}},\"marker\":{\"colorbar\":{\"outlinewidth\":0,\"ticks\":\"\"}}}],\"scattermapbox\":[{\"type\":\"scattermapbox\",\"marker\":{\"colorbar\":{\"outlinewidth\":0,\"ticks\":\"\"}}}],\"scatterternary\":[{\"type\":\"scatterternary\",\"marker\":{\"colorbar\":{\"outlinewidth\":0,\"ticks\":\"\"}}}],\"scattercarpet\":[{\"type\":\"scattercarpet\",\"marker\":{\"colorbar\":{\"outlinewidth\":0,\"ticks\":\"\"}}}],\"carpet\":[{\"aaxis\":{\"endlinecolor\":\"#2a3f5f\",\"gridcolor\":\"white\",\"linecolor\":\"white\",\"minorgridcolor\":\"white\",\"startlinecolor\":\"#2a3f5f\"},\"baxis\":{\"endlinecolor\":\"#2a3f5f\",\"gridcolor\":\"white\",\"linecolor\":\"white\",\"minorgridcolor\":\"white\",\"startlinecolor\":\"#2a3f5f\"},\"type\":\"carpet\"}],\"table\":[{\"cells\":{\"fill\":{\"color\":\"#EBF0F8\"},\"line\":{\"color\":\"white\"}},\"header\":{\"fill\":{\"color\":\"#C8D4E3\"},\"line\":{\"color\":\"white\"}},\"type\":\"table\"}],\"barpolar\":[{\"marker\":{\"line\":{\"color\":\"#E5ECF6\",\"width\":0.5},\"pattern\":{\"fillmode\":\"overlay\",\"size\":10,\"solidity\":0.2}},\"type\":\"barpolar\"}],\"pie\":[{\"automargin\":true,\"type\":\"pie\"}]},\"layout\":{\"autotypenumbers\":\"strict\",\"colorway\":[\"#636efa\",\"#EF553B\",\"#00cc96\",\"#ab63fa\",\"#FFA15A\",\"#19d3f3\",\"#FF6692\",\"#B6E880\",\"#FF97FF\",\"#FECB52\"],\"font\":{\"color\":\"#2a3f5f\"},\"hovermode\":\"closest\",\"hoverlabel\":{\"align\":\"left\"},\"paper_bgcolor\":\"white\",\"plot_bgcolor\":\"#E5ECF6\",\"polar\":{\"bgcolor\":\"#E5ECF6\",\"angularaxis\":{\"gridcolor\":\"white\",\"linecolor\":\"white\",\"ticks\":\"\"},\"radialaxis\":{\"gridcolor\":\"white\",\"linecolor\":\"white\",\"ticks\":\"\"}},\"ternary\":{\"bgcolor\":\"#E5ECF6\",\"aaxis\":{\"gridcolor\":\"white\",\"linecolor\":\"white\",\"ticks\":\"\"},\"baxis\":{\"gridcolor\":\"white\",\"linecolor\":\"white\",\"ticks\":\"\"},\"caxis\":{\"gridcolor\":\"white\",\"linecolor\":\"white\",\"ticks\":\"\"}},\"coloraxis\":{\"colorbar\":{\"outlinewidth\":0,\"ticks\":\"\"}},\"colorscale\":{\"sequential\":[[0.0,\"#0d0887\"],[0.1111111111111111,\"#46039f\"],[0.2222222222222222,\"#7201a8\"],[0.3333333333333333,\"#9c179e\"],[0.4444444444444444,\"#bd3786\"],[0.5555555555555556,\"#d8576b\"],[0.6666666666666666,\"#ed7953\"],[0.7777777777777778,\"#fb9f3a\"],[0.8888888888888888,\"#fdca26\"],[1.0,\"#f0f921\"]],\"sequentialminus\":[[0.0,\"#0d0887\"],[0.1111111111111111,\"#46039f\"],[0.2222222222222222,\"#7201a8\"],[0.3333333333333333,\"#9c179e\"],[0.4444444444444444,\"#bd3786\"],[0.5555555555555556,\"#d8576b\"],[0.6666666666666666,\"#ed7953\"],[0.7777777777777778,\"#fb9f3a\"],[0.8888888888888888,\"#fdca26\"],[1.0,\"#f0f921\"]],\"diverging\":[[0,\"#8e0152\"],[0.1,\"#c51b7d\"],[0.2,\"#de77ae\"],[0.3,\"#f1b6da\"],[0.4,\"#fde0ef\"],[0.5,\"#f7f7f7\"],[0.6,\"#e6f5d0\"],[0.7,\"#b8e186\"],[0.8,\"#7fbc41\"],[0.9,\"#4d9221\"],[1,\"#276419\"]]},\"xaxis\":{\"gridcolor\":\"white\",\"linecolor\":\"white\",\"ticks\":\"\",\"title\":{\"standoff\":15},\"zerolinecolor\":\"white\",\"automargin\":true,\"zerolinewidth\":2},\"yaxis\":{\"gridcolor\":\"white\",\"linecolor\":\"white\",\"ticks\":\"\",\"title\":{\"standoff\":15},\"zerolinecolor\":\"white\",\"automargin\":true,\"zerolinewidth\":2},\"scene\":{\"xaxis\":{\"backgroundcolor\":\"#E5ECF6\",\"gridcolor\":\"white\",\"linecolor\":\"white\",\"showbackground\":true,\"ticks\":\"\",\"zerolinecolor\":\"white\",\"gridwidth\":2},\"yaxis\":{\"backgroundcolor\":\"#E5ECF6\",\"gridcolor\":\"white\",\"linecolor\":\"white\",\"showbackground\":true,\"ticks\":\"\",\"zerolinecolor\":\"white\",\"gridwidth\":2},\"zaxis\":{\"backgroundcolor\":\"#E5ECF6\",\"gridcolor\":\"white\",\"linecolor\":\"white\",\"showbackground\":true,\"ticks\":\"\",\"zerolinecolor\":\"white\",\"gridwidth\":2}},\"shapedefaults\":{\"line\":{\"color\":\"#2a3f5f\"}},\"annotationdefaults\":{\"arrowcolor\":\"#2a3f5f\",\"arrowhead\":0,\"arrowwidth\":1},\"geo\":{\"bgcolor\":\"white\",\"landcolor\":\"#E5ECF6\",\"subunitcolor\":\"white\",\"showland\":true,\"showlakes\":true,\"lakecolor\":\"white\"},\"title\":{\"x\":0.05},\"mapbox\":{\"style\":\"light\"}}},\"geo\":{\"domain\":{\"x\":[0.0,1.0],\"y\":[0.0,1.0]},\"center\":{}},\"coloraxis\":{\"colorbar\":{\"title\":{\"text\":\"World Happiness Index\"}},\"colorscale\":[[0.0,\"#440154\"],[0.1111111111111111,\"#482878\"],[0.2222222222222222,\"#3e4989\"],[0.3333333333333333,\"#31688e\"],[0.4444444444444444,\"#26828e\"],[0.5555555555555556,\"#1f9e89\"],[0.6666666666666666,\"#35b779\"],[0.7777777777777778,\"#6ece58\"],[0.8888888888888888,\"#b5de2b\"],[1.0,\"#fde725\"]]},\"legend\":{\"tracegroupgap\":0},\"title\":{\"text\":\"World Happiness Index 2022\"}},                        {\"responsive\": true}                    ).then(function(){\n",
       "                            \n",
       "var gd = document.getElementById('51c7dfc9-7198-46e4-a051-2f15768474d4');\n",
       "var x = new MutationObserver(function (mutations, observer) {{\n",
       "        var display = window.getComputedStyle(gd).display;\n",
       "        if (!display || display === 'none') {{\n",
       "            console.log([gd, 'removed!']);\n",
       "            Plotly.purge(gd);\n",
       "            observer.disconnect();\n",
       "        }}\n",
       "}});\n",
       "\n",
       "// Listen for the removal of the full notebook cells\n",
       "var notebookContainer = gd.closest('#notebook-container');\n",
       "if (notebookContainer) {{\n",
       "    x.observe(notebookContainer, {childList: true});\n",
       "}}\n",
       "\n",
       "// Listen for the clearing of the current output cell\n",
       "var outputEl = gd.closest('.output');\n",
       "if (outputEl) {{\n",
       "    x.observe(outputEl, {childList: true});\n",
       "}}\n",
       "\n",
       "                        })                };                });            </script>        </div>"
      ]
     },
     "metadata": {},
     "output_type": "display_data"
    }
   ],
   "source": [
    "fig_happiness_map = px.choropleth(data, locations='country', locationmode='country names',\n",
    "                                  color='WorldHappiness2022',\n",
    "                                  title='World Happiness Index 2022',\n",
    "                                  color_continuous_scale='Viridis',\n",
    "                                  labels={'WorldHappiness2022': 'World Happiness Index'})\n",
    "\n",
    "# Display the map\n",
    "fig_happiness_map.show()"
   ]
  },
  {
   "cell_type": "code",
   "execution_count": 22,
   "id": "633ddb08",
   "metadata": {
    "execution": {
     "iopub.execute_input": "2024-01-14T14:03:46.888884Z",
     "iopub.status.busy": "2024-01-14T14:03:46.888299Z",
     "iopub.status.idle": "2024-01-14T14:03:46.904855Z",
     "shell.execute_reply": "2024-01-14T14:03:46.903326Z"
    },
    "papermill": {
     "duration": 0.0378,
     "end_time": "2024-01-14T14:03:46.907372",
     "exception": false,
     "start_time": "2024-01-14T14:03:46.869572",
     "status": "completed"
    },
    "tags": []
   },
   "outputs": [
    {
     "data": {
      "text/plain": [
       "country\n",
       "Hungary    -0.01588\n",
       "Slovakia   -0.01594\n",
       "Poland     -0.01961\n",
       "Lebanon    -0.02519\n",
       "Moldova    -0.03087\n",
       "Name: population_growthRate, dtype: float64"
      ]
     },
     "execution_count": 22,
     "metadata": {},
     "output_type": "execute_result"
    }
   ],
   "source": [
    "tail_country_gr = (\n",
    "    data.groupby(\"country\")[\"population_growthRate\"]\n",
    "    .mean()\n",
    "    .sort_values(ascending=False)\n",
    "    .tail(5)\n",
    ")\n",
    "tail_country_gr"
   ]
  },
  {
   "cell_type": "markdown",
   "id": "18f80886",
   "metadata": {
    "papermill": {
     "duration": 0.016726,
     "end_time": "2024-01-14T14:03:46.940966",
     "exception": false,
     "start_time": "2024-01-14T14:03:46.924240",
     "status": "completed"
    },
    "tags": []
   },
   "source": [
    "* #### Moldova is the lowest population growth rate with -0.03087 point"
   ]
  },
  {
   "cell_type": "code",
   "execution_count": 23,
   "id": "749ce689",
   "metadata": {
    "execution": {
     "iopub.execute_input": "2024-01-14T14:03:46.977577Z",
     "iopub.status.busy": "2024-01-14T14:03:46.977140Z",
     "iopub.status.idle": "2024-01-14T14:03:46.988738Z",
     "shell.execute_reply": "2024-01-14T14:03:46.987592Z"
    },
    "papermill": {
     "duration": 0.033695,
     "end_time": "2024-01-14T14:03:46.991719",
     "exception": false,
     "start_time": "2024-01-14T14:03:46.958024",
     "status": "completed"
    },
    "tags": []
   },
   "outputs": [
    {
     "data": {
      "text/plain": [
       "country\n",
       "Niger       0.03809\n",
       "Ukraine     0.03247\n",
       "Chad        0.03111\n",
       "Mali        0.03100\n",
       "Tanzania    0.02938\n",
       "Name: population_growthRate, dtype: float64"
      ]
     },
     "execution_count": 23,
     "metadata": {},
     "output_type": "execute_result"
    }
   ],
   "source": [
    "head_country_gr = (\n",
    "    data.groupby(\"country\")[\"population_growthRate\"]\n",
    "    .mean()\n",
    "    .sort_values(ascending=False)\n",
    "    .head(5)\n",
    ")\n",
    "head_country_gr"
   ]
  },
  {
   "cell_type": "markdown",
   "id": "dca0bde0",
   "metadata": {
    "papermill": {
     "duration": 0.018692,
     "end_time": "2024-01-14T14:03:47.028647",
     "exception": false,
     "start_time": "2024-01-14T14:03:47.009955",
     "status": "completed"
    },
    "tags": []
   },
   "source": [
    "* #### Niger is the highest population growth rate with 0.03809 point"
   ]
  },
  {
   "cell_type": "code",
   "execution_count": 24,
   "id": "3299d583",
   "metadata": {
    "execution": {
     "iopub.execute_input": "2024-01-14T14:03:47.066109Z",
     "iopub.status.busy": "2024-01-14T14:03:47.065649Z",
     "iopub.status.idle": "2024-01-14T14:03:47.137047Z",
     "shell.execute_reply": "2024-01-14T14:03:47.135605Z"
    },
    "papermill": {
     "duration": 0.094098,
     "end_time": "2024-01-14T14:03:47.140038",
     "exception": false,
     "start_time": "2024-01-14T14:03:47.045940",
     "status": "completed"
    },
    "tags": []
   },
   "outputs": [
    {
     "data": {
      "text/html": [
       "<div>                            <div id=\"de7b3cab-b1f7-4f44-8955-8575e5a55889\" class=\"plotly-graph-div\" style=\"height:525px; width:100%;\"></div>            <script type=\"text/javascript\">                require([\"plotly\"], function(Plotly) {                    window.PLOTLYENV=window.PLOTLYENV || {};                                    if (document.getElementById(\"de7b3cab-b1f7-4f44-8955-8575e5a55889\")) {                    Plotly.newPlot(                        \"de7b3cab-b1f7-4f44-8955-8575e5a55889\",                        [{\"coloraxis\":\"coloraxis\",\"geo\":\"geo\",\"hovertemplate\":\"country=%{location}\\u003cbr\\u003ePopulation Growth Rate=%{z}\\u003cextra\\u003e\\u003c\\u002fextra\\u003e\",\"locationmode\":\"country names\",\"locations\":[\"India\",\"China\",\"United States\",\"Indonesia\",\"Pakistan\",\"Nigeria\",\"Brazil\",\"Bangladesh\",\"Russia\",\"Ethiopia\",\"Mexico\",\"Japan\",\"Philippines\",\"Egypt\",\"Vietnam\",\"Turkey\",\"Germany\",\"Thailand\",\"Tanzania\",\"United Kingdom\",\"France\",\"South Africa\",\"Italy\",\"Kenya\",\"Myanmar\",\"Colombia\",\"South Korea\",\"Uganda\",\"Sudan\",\"Spain\",\"Iraq\",\"Algeria\",\"Argentina\",\"Afghanistan\",\"Poland\",\"Canada\",\"Morocco\",\"Ukraine\",\"Saudi Arabia\",\"Uzbekistan\",\"Yemen\",\"Mozambique\",\"Ghana\",\"Peru\",\"Malaysia\",\"Nepal\",\"Madagascar\",\"Ivory Coast\",\"Cameroon\",\"Niger\",\"Australia\",\"Mali\",\"Burkina Faso\",\"Sri Lanka\",\"Malawi\",\"Zambia\",\"Kazakhstan\",\"Chile\",\"Romania\",\"Chad\",\"Ecuador\",\"Guatemala\",\"Senegal\",\"Netherlands\",\"Cambodia\",\"Zimbabwe\",\"Rwanda\",\"Benin\",\"Bolivia\",\"Tunisia\",\"Belgium\",\"Dominican Republic\",\"Jordan\",\"Honduras\",\"Sweden\",\"Czech Republic\",\"Azerbaijan\",\"Tajikistan\",\"Greece\",\"Portugal\",\"Hungary\",\"United Arab Emirates\",\"Belarus\",\"Israel\",\"Togo\",\"Sierra Leone\",\"Austria\",\"Switzerland\",\"Laos\",\"Hong Kong\",\"Nicaragua\",\"Serbia\",\"Libya\",\"Paraguay\",\"Kyrgyzstan\",\"Bulgaria\",\"Turkmenistan\",\"El Salvador\",\"Republic of the Congo\",\"Singapore\",\"Denmark\",\"Slovakia\",\"Finland\",\"Liberia\",\"Norway\",\"Palestine\",\"New Zealand\",\"Costa Rica\",\"Lebanon\",\"Ireland\",\"Mauritania\",\"Panama\",\"Kuwait\",\"Croatia\",\"Georgia\",\"Mongolia\",\"Uruguay\",\"Moldova\",\"Bosnia and Herzegovina\",\"Gambia\",\"Albania\",\"Jamaica\",\"Armenia\",\"Botswana\",\"Lithuania\",\"Namibia\",\"Gabon\",\"Lesotho\",\"Slovenia\",\"North Macedonia\",\"Latvia\",\"Bahrain\",\"Estonia\",\"Mauritius\",\"Cyprus\",\"Eswatini\",\"Comoros\",\"Luxembourg\",\"Montenegro\",\"Malta\",\"Iceland\"],\"name\":\"\",\"z\":[0.00916,-0.00035,0.00535,0.00816,0.01964,0.02389,0.00561,0.0101,-0.00337,0.02523,0.00726,-0.00538,0.01508,0.01568,0.00646,0.00518,-0.00051,0.00118,0.02938,0.00332,0.00193,0.01003,-0.00294,0.02001,0.00709,0.00491,-0.00081,0.02762,0.02597,-0.00097,0.0224,0.01474,0.0062,0.02683,-0.01961,0.0084,0.00982,0.03247,0.01426,0.0145,0.02235,0.02835,0.01921,0.00963,0.01059,0.01113,0.0241,0.02529,0.02608,0.03809,0.00985,0.031,0.02532,0.00254,0.026,0.02747,0.0113,0.00149,-0.01377,0.03111,0.01027,0.01473,0.02581,0.003,0.01045,0.0213,0.02272,0.02678,0.01443,0.00855,0.00254,0.00892,0.00422,0.01563,0.0058,0.0008,0.00483,0.01853,-0.00373,-0.00237,-0.01588,0.00788,-0.00455,0.01495,0.02287,0.02126,0.00203,0.00623,0.01348,0.00068,0.01366,-0.00728,0.01101,0.0125,0.01548,-0.01033,0.01258,0.00493,0.02255,0.00632,0.00487,-0.01594,0.0008,0.02188,0.00733,0.02304,0.008,0.00663,-0.02519,0.00644,0.02692,0.0134,0.00911,-0.00549,-0.00291,0.01348,0.00006,-0.03087,-0.00513,0.02475,-0.00227,-0.00029,0.0,0.01657,-0.0094,0.01599,0.0197,0.01106,-0.00034,-0.00143,-0.01091,0.00889,-0.00282,0.00109,0.00661,0.00929,0.01823,0.01043,-0.00061,0.00313,0.00632],\"type\":\"choropleth\"}],                        {\"template\":{\"data\":{\"histogram2dcontour\":[{\"type\":\"histogram2dcontour\",\"colorbar\":{\"outlinewidth\":0,\"ticks\":\"\"},\"colorscale\":[[0.0,\"#0d0887\"],[0.1111111111111111,\"#46039f\"],[0.2222222222222222,\"#7201a8\"],[0.3333333333333333,\"#9c179e\"],[0.4444444444444444,\"#bd3786\"],[0.5555555555555556,\"#d8576b\"],[0.6666666666666666,\"#ed7953\"],[0.7777777777777778,\"#fb9f3a\"],[0.8888888888888888,\"#fdca26\"],[1.0,\"#f0f921\"]]}],\"choropleth\":[{\"type\":\"choropleth\",\"colorbar\":{\"outlinewidth\":0,\"ticks\":\"\"}}],\"histogram2d\":[{\"type\":\"histogram2d\",\"colorbar\":{\"outlinewidth\":0,\"ticks\":\"\"},\"colorscale\":[[0.0,\"#0d0887\"],[0.1111111111111111,\"#46039f\"],[0.2222222222222222,\"#7201a8\"],[0.3333333333333333,\"#9c179e\"],[0.4444444444444444,\"#bd3786\"],[0.5555555555555556,\"#d8576b\"],[0.6666666666666666,\"#ed7953\"],[0.7777777777777778,\"#fb9f3a\"],[0.8888888888888888,\"#fdca26\"],[1.0,\"#f0f921\"]]}],\"heatmap\":[{\"type\":\"heatmap\",\"colorbar\":{\"outlinewidth\":0,\"ticks\":\"\"},\"colorscale\":[[0.0,\"#0d0887\"],[0.1111111111111111,\"#46039f\"],[0.2222222222222222,\"#7201a8\"],[0.3333333333333333,\"#9c179e\"],[0.4444444444444444,\"#bd3786\"],[0.5555555555555556,\"#d8576b\"],[0.6666666666666666,\"#ed7953\"],[0.7777777777777778,\"#fb9f3a\"],[0.8888888888888888,\"#fdca26\"],[1.0,\"#f0f921\"]]}],\"heatmapgl\":[{\"type\":\"heatmapgl\",\"colorbar\":{\"outlinewidth\":0,\"ticks\":\"\"},\"colorscale\":[[0.0,\"#0d0887\"],[0.1111111111111111,\"#46039f\"],[0.2222222222222222,\"#7201a8\"],[0.3333333333333333,\"#9c179e\"],[0.4444444444444444,\"#bd3786\"],[0.5555555555555556,\"#d8576b\"],[0.6666666666666666,\"#ed7953\"],[0.7777777777777778,\"#fb9f3a\"],[0.8888888888888888,\"#fdca26\"],[1.0,\"#f0f921\"]]}],\"contourcarpet\":[{\"type\":\"contourcarpet\",\"colorbar\":{\"outlinewidth\":0,\"ticks\":\"\"}}],\"contour\":[{\"type\":\"contour\",\"colorbar\":{\"outlinewidth\":0,\"ticks\":\"\"},\"colorscale\":[[0.0,\"#0d0887\"],[0.1111111111111111,\"#46039f\"],[0.2222222222222222,\"#7201a8\"],[0.3333333333333333,\"#9c179e\"],[0.4444444444444444,\"#bd3786\"],[0.5555555555555556,\"#d8576b\"],[0.6666666666666666,\"#ed7953\"],[0.7777777777777778,\"#fb9f3a\"],[0.8888888888888888,\"#fdca26\"],[1.0,\"#f0f921\"]]}],\"surface\":[{\"type\":\"surface\",\"colorbar\":{\"outlinewidth\":0,\"ticks\":\"\"},\"colorscale\":[[0.0,\"#0d0887\"],[0.1111111111111111,\"#46039f\"],[0.2222222222222222,\"#7201a8\"],[0.3333333333333333,\"#9c179e\"],[0.4444444444444444,\"#bd3786\"],[0.5555555555555556,\"#d8576b\"],[0.6666666666666666,\"#ed7953\"],[0.7777777777777778,\"#fb9f3a\"],[0.8888888888888888,\"#fdca26\"],[1.0,\"#f0f921\"]]}],\"mesh3d\":[{\"type\":\"mesh3d\",\"colorbar\":{\"outlinewidth\":0,\"ticks\":\"\"}}],\"scatter\":[{\"fillpattern\":{\"fillmode\":\"overlay\",\"size\":10,\"solidity\":0.2},\"type\":\"scatter\"}],\"parcoords\":[{\"type\":\"parcoords\",\"line\":{\"colorbar\":{\"outlinewidth\":0,\"ticks\":\"\"}}}],\"scatterpolargl\":[{\"type\":\"scatterpolargl\",\"marker\":{\"colorbar\":{\"outlinewidth\":0,\"ticks\":\"\"}}}],\"bar\":[{\"error_x\":{\"color\":\"#2a3f5f\"},\"error_y\":{\"color\":\"#2a3f5f\"},\"marker\":{\"line\":{\"color\":\"#E5ECF6\",\"width\":0.5},\"pattern\":{\"fillmode\":\"overlay\",\"size\":10,\"solidity\":0.2}},\"type\":\"bar\"}],\"scattergeo\":[{\"type\":\"scattergeo\",\"marker\":{\"colorbar\":{\"outlinewidth\":0,\"ticks\":\"\"}}}],\"scatterpolar\":[{\"type\":\"scatterpolar\",\"marker\":{\"colorbar\":{\"outlinewidth\":0,\"ticks\":\"\"}}}],\"histogram\":[{\"marker\":{\"pattern\":{\"fillmode\":\"overlay\",\"size\":10,\"solidity\":0.2}},\"type\":\"histogram\"}],\"scattergl\":[{\"type\":\"scattergl\",\"marker\":{\"colorbar\":{\"outlinewidth\":0,\"ticks\":\"\"}}}],\"scatter3d\":[{\"type\":\"scatter3d\",\"line\":{\"colorbar\":{\"outlinewidth\":0,\"ticks\":\"\"}},\"marker\":{\"colorbar\":{\"outlinewidth\":0,\"ticks\":\"\"}}}],\"scattermapbox\":[{\"type\":\"scattermapbox\",\"marker\":{\"colorbar\":{\"outlinewidth\":0,\"ticks\":\"\"}}}],\"scatterternary\":[{\"type\":\"scatterternary\",\"marker\":{\"colorbar\":{\"outlinewidth\":0,\"ticks\":\"\"}}}],\"scattercarpet\":[{\"type\":\"scattercarpet\",\"marker\":{\"colorbar\":{\"outlinewidth\":0,\"ticks\":\"\"}}}],\"carpet\":[{\"aaxis\":{\"endlinecolor\":\"#2a3f5f\",\"gridcolor\":\"white\",\"linecolor\":\"white\",\"minorgridcolor\":\"white\",\"startlinecolor\":\"#2a3f5f\"},\"baxis\":{\"endlinecolor\":\"#2a3f5f\",\"gridcolor\":\"white\",\"linecolor\":\"white\",\"minorgridcolor\":\"white\",\"startlinecolor\":\"#2a3f5f\"},\"type\":\"carpet\"}],\"table\":[{\"cells\":{\"fill\":{\"color\":\"#EBF0F8\"},\"line\":{\"color\":\"white\"}},\"header\":{\"fill\":{\"color\":\"#C8D4E3\"},\"line\":{\"color\":\"white\"}},\"type\":\"table\"}],\"barpolar\":[{\"marker\":{\"line\":{\"color\":\"#E5ECF6\",\"width\":0.5},\"pattern\":{\"fillmode\":\"overlay\",\"size\":10,\"solidity\":0.2}},\"type\":\"barpolar\"}],\"pie\":[{\"automargin\":true,\"type\":\"pie\"}]},\"layout\":{\"autotypenumbers\":\"strict\",\"colorway\":[\"#636efa\",\"#EF553B\",\"#00cc96\",\"#ab63fa\",\"#FFA15A\",\"#19d3f3\",\"#FF6692\",\"#B6E880\",\"#FF97FF\",\"#FECB52\"],\"font\":{\"color\":\"#2a3f5f\"},\"hovermode\":\"closest\",\"hoverlabel\":{\"align\":\"left\"},\"paper_bgcolor\":\"white\",\"plot_bgcolor\":\"#E5ECF6\",\"polar\":{\"bgcolor\":\"#E5ECF6\",\"angularaxis\":{\"gridcolor\":\"white\",\"linecolor\":\"white\",\"ticks\":\"\"},\"radialaxis\":{\"gridcolor\":\"white\",\"linecolor\":\"white\",\"ticks\":\"\"}},\"ternary\":{\"bgcolor\":\"#E5ECF6\",\"aaxis\":{\"gridcolor\":\"white\",\"linecolor\":\"white\",\"ticks\":\"\"},\"baxis\":{\"gridcolor\":\"white\",\"linecolor\":\"white\",\"ticks\":\"\"},\"caxis\":{\"gridcolor\":\"white\",\"linecolor\":\"white\",\"ticks\":\"\"}},\"coloraxis\":{\"colorbar\":{\"outlinewidth\":0,\"ticks\":\"\"}},\"colorscale\":{\"sequential\":[[0.0,\"#0d0887\"],[0.1111111111111111,\"#46039f\"],[0.2222222222222222,\"#7201a8\"],[0.3333333333333333,\"#9c179e\"],[0.4444444444444444,\"#bd3786\"],[0.5555555555555556,\"#d8576b\"],[0.6666666666666666,\"#ed7953\"],[0.7777777777777778,\"#fb9f3a\"],[0.8888888888888888,\"#fdca26\"],[1.0,\"#f0f921\"]],\"sequentialminus\":[[0.0,\"#0d0887\"],[0.1111111111111111,\"#46039f\"],[0.2222222222222222,\"#7201a8\"],[0.3333333333333333,\"#9c179e\"],[0.4444444444444444,\"#bd3786\"],[0.5555555555555556,\"#d8576b\"],[0.6666666666666666,\"#ed7953\"],[0.7777777777777778,\"#fb9f3a\"],[0.8888888888888888,\"#fdca26\"],[1.0,\"#f0f921\"]],\"diverging\":[[0,\"#8e0152\"],[0.1,\"#c51b7d\"],[0.2,\"#de77ae\"],[0.3,\"#f1b6da\"],[0.4,\"#fde0ef\"],[0.5,\"#f7f7f7\"],[0.6,\"#e6f5d0\"],[0.7,\"#b8e186\"],[0.8,\"#7fbc41\"],[0.9,\"#4d9221\"],[1,\"#276419\"]]},\"xaxis\":{\"gridcolor\":\"white\",\"linecolor\":\"white\",\"ticks\":\"\",\"title\":{\"standoff\":15},\"zerolinecolor\":\"white\",\"automargin\":true,\"zerolinewidth\":2},\"yaxis\":{\"gridcolor\":\"white\",\"linecolor\":\"white\",\"ticks\":\"\",\"title\":{\"standoff\":15},\"zerolinecolor\":\"white\",\"automargin\":true,\"zerolinewidth\":2},\"scene\":{\"xaxis\":{\"backgroundcolor\":\"#E5ECF6\",\"gridcolor\":\"white\",\"linecolor\":\"white\",\"showbackground\":true,\"ticks\":\"\",\"zerolinecolor\":\"white\",\"gridwidth\":2},\"yaxis\":{\"backgroundcolor\":\"#E5ECF6\",\"gridcolor\":\"white\",\"linecolor\":\"white\",\"showbackground\":true,\"ticks\":\"\",\"zerolinecolor\":\"white\",\"gridwidth\":2},\"zaxis\":{\"backgroundcolor\":\"#E5ECF6\",\"gridcolor\":\"white\",\"linecolor\":\"white\",\"showbackground\":true,\"ticks\":\"\",\"zerolinecolor\":\"white\",\"gridwidth\":2}},\"shapedefaults\":{\"line\":{\"color\":\"#2a3f5f\"}},\"annotationdefaults\":{\"arrowcolor\":\"#2a3f5f\",\"arrowhead\":0,\"arrowwidth\":1},\"geo\":{\"bgcolor\":\"white\",\"landcolor\":\"#E5ECF6\",\"subunitcolor\":\"white\",\"showland\":true,\"showlakes\":true,\"lakecolor\":\"white\"},\"title\":{\"x\":0.05},\"mapbox\":{\"style\":\"light\"}}},\"geo\":{\"domain\":{\"x\":[0.0,1.0],\"y\":[0.0,1.0]},\"center\":{}},\"coloraxis\":{\"colorbar\":{\"title\":{\"text\":\"Population Growth Rate\"}},\"colorscale\":[[0.0,\"#440154\"],[0.1111111111111111,\"#482878\"],[0.2222222222222222,\"#3e4989\"],[0.3333333333333333,\"#31688e\"],[0.4444444444444444,\"#26828e\"],[0.5555555555555556,\"#1f9e89\"],[0.6666666666666666,\"#35b779\"],[0.7777777777777778,\"#6ece58\"],[0.8888888888888888,\"#b5de2b\"],[1.0,\"#fde725\"]]},\"legend\":{\"tracegroupgap\":0},\"title\":{\"text\":\"Population Growth Rate\"}},                        {\"responsive\": true}                    ).then(function(){\n",
       "                            \n",
       "var gd = document.getElementById('de7b3cab-b1f7-4f44-8955-8575e5a55889');\n",
       "var x = new MutationObserver(function (mutations, observer) {{\n",
       "        var display = window.getComputedStyle(gd).display;\n",
       "        if (!display || display === 'none') {{\n",
       "            console.log([gd, 'removed!']);\n",
       "            Plotly.purge(gd);\n",
       "            observer.disconnect();\n",
       "        }}\n",
       "}});\n",
       "\n",
       "// Listen for the removal of the full notebook cells\n",
       "var notebookContainer = gd.closest('#notebook-container');\n",
       "if (notebookContainer) {{\n",
       "    x.observe(notebookContainer, {childList: true});\n",
       "}}\n",
       "\n",
       "// Listen for the clearing of the current output cell\n",
       "var outputEl = gd.closest('.output');\n",
       "if (outputEl) {{\n",
       "    x.observe(outputEl, {childList: true});\n",
       "}}\n",
       "\n",
       "                        })                };                });            </script>        </div>"
      ]
     },
     "metadata": {},
     "output_type": "display_data"
    }
   ],
   "source": [
    "fig_happiness_map = px.choropleth(data, locations='country', locationmode='country names',\n",
    "                                  color='population_growthRate',\n",
    "                                  title='Population Growth Rate',\n",
    "                                  color_continuous_scale='Viridis',\n",
    "                                  labels={'population_growthRate': 'Population Growth Rate'})\n",
    "\n",
    "# Display the map\n",
    "fig_happiness_map.show()"
   ]
  },
  {
   "cell_type": "markdown",
   "id": "fbcf3b9c",
   "metadata": {
    "papermill": {
     "duration": 0.017398,
     "end_time": "2024-01-14T14:03:47.176465",
     "exception": false,
     "start_time": "2024-01-14T14:03:47.159067",
     "status": "completed"
    },
    "tags": []
   },
   "source": [
    "# -----------------------------------------------\n",
    "# Total UN Member countries in every Region"
   ]
  },
  {
   "cell_type": "code",
   "execution_count": 25,
   "id": "9840cb0f",
   "metadata": {
    "execution": {
     "iopub.execute_input": "2024-01-14T14:03:47.214723Z",
     "iopub.status.busy": "2024-01-14T14:03:47.214273Z",
     "iopub.status.idle": "2024-01-14T14:03:47.233128Z",
     "shell.execute_reply": "2024-01-14T14:03:47.232268Z"
    },
    "papermill": {
     "duration": 0.042203,
     "end_time": "2024-01-14T14:03:47.236640",
     "exception": false,
     "start_time": "2024-01-14T14:03:47.194437",
     "status": "completed"
    },
    "tags": []
   },
   "outputs": [
    {
     "data": {
      "text/html": [
       "<div>\n",
       "<style scoped>\n",
       "    .dataframe tbody tr th:only-of-type {\n",
       "        vertical-align: middle;\n",
       "    }\n",
       "\n",
       "    .dataframe tbody tr th {\n",
       "        vertical-align: top;\n",
       "    }\n",
       "\n",
       "    .dataframe thead th {\n",
       "        text-align: right;\n",
       "    }\n",
       "</style>\n",
       "<table border=\"1\" class=\"dataframe\">\n",
       "  <thead>\n",
       "    <tr style=\"text-align: right;\">\n",
       "      <th></th>\n",
       "      <th>population_2024</th>\n",
       "      <th>population_growthRate</th>\n",
       "      <th>land_area</th>\n",
       "      <th>country</th>\n",
       "      <th>region</th>\n",
       "      <th>unMember</th>\n",
       "      <th>population_density</th>\n",
       "      <th>population_densityMi</th>\n",
       "      <th>Hdi2021</th>\n",
       "      <th>Hdi2020</th>\n",
       "      <th>WorldHappiness2022</th>\n",
       "    </tr>\n",
       "  </thead>\n",
       "  <tbody>\n",
       "    <tr>\n",
       "      <th>96</th>\n",
       "      <td>6598071</td>\n",
       "      <td>0.01258</td>\n",
       "      <td>488100</td>\n",
       "      <td>Turkmenistan</td>\n",
       "      <td>Asia</td>\n",
       "      <td>True</td>\n",
       "      <td>14.0405</td>\n",
       "      <td>36.3650</td>\n",
       "      <td>0.745</td>\n",
       "      <td>0.741</td>\n",
       "      <td>5.474</td>\n",
       "    </tr>\n",
       "    <tr>\n",
       "      <th>133</th>\n",
       "      <td>1301978</td>\n",
       "      <td>0.00109</td>\n",
       "      <td>2040</td>\n",
       "      <td>Mauritius</td>\n",
       "      <td>Africa</td>\n",
       "      <td>True</td>\n",
       "      <td>641.3685</td>\n",
       "      <td>1661.1443</td>\n",
       "      <td>0.802</td>\n",
       "      <td>0.804</td>\n",
       "      <td>6.071</td>\n",
       "    </tr>\n",
       "    <tr>\n",
       "      <th>31</th>\n",
       "      <td>46278751</td>\n",
       "      <td>0.01474</td>\n",
       "      <td>2381741</td>\n",
       "      <td>Algeria</td>\n",
       "      <td>Africa</td>\n",
       "      <td>True</td>\n",
       "      <td>19.4306</td>\n",
       "      <td>50.3254</td>\n",
       "      <td>0.745</td>\n",
       "      <td>0.736</td>\n",
       "      <td>5.122</td>\n",
       "    </tr>\n",
       "    <tr>\n",
       "      <th>1</th>\n",
       "      <td>1425178782</td>\n",
       "      <td>-0.00035</td>\n",
       "      <td>9706961</td>\n",
       "      <td>China</td>\n",
       "      <td>Asia</td>\n",
       "      <td>True</td>\n",
       "      <td>151.2174</td>\n",
       "      <td>391.6530</td>\n",
       "      <td>0.768</td>\n",
       "      <td>0.764</td>\n",
       "      <td>5.585</td>\n",
       "    </tr>\n",
       "    <tr>\n",
       "      <th>38</th>\n",
       "      <td>37473929</td>\n",
       "      <td>0.01426</td>\n",
       "      <td>2149690</td>\n",
       "      <td>Saudi Arabia</td>\n",
       "      <td>Asia</td>\n",
       "      <td>True</td>\n",
       "      <td>17.4322</td>\n",
       "      <td>45.1495</td>\n",
       "      <td>0.875</td>\n",
       "      <td>0.870</td>\n",
       "      <td>6.523</td>\n",
       "    </tr>\n",
       "  </tbody>\n",
       "</table>\n",
       "</div>"
      ],
      "text/plain": [
       "     population_2024  population_growthRate  land_area       country  region  \\\n",
       "96           6598071                0.01258     488100  Turkmenistan    Asia   \n",
       "133          1301978                0.00109       2040     Mauritius  Africa   \n",
       "31          46278751                0.01474    2381741       Algeria  Africa   \n",
       "1         1425178782               -0.00035    9706961         China    Asia   \n",
       "38          37473929                0.01426    2149690  Saudi Arabia    Asia   \n",
       "\n",
       "     unMember  population_density  population_densityMi  Hdi2021  Hdi2020  \\\n",
       "96       True             14.0405               36.3650    0.745    0.741   \n",
       "133      True            641.3685             1661.1443    0.802    0.804   \n",
       "31       True             19.4306               50.3254    0.745    0.736   \n",
       "1        True            151.2174              391.6530    0.768    0.764   \n",
       "38       True             17.4322               45.1495    0.875    0.870   \n",
       "\n",
       "     WorldHappiness2022  \n",
       "96                5.474  \n",
       "133               6.071  \n",
       "31                5.122  \n",
       "1                 5.585  \n",
       "38                6.523  "
      ]
     },
     "execution_count": 25,
     "metadata": {},
     "output_type": "execute_result"
    }
   ],
   "source": [
    "data.sample(5)"
   ]
  },
  {
   "cell_type": "code",
   "execution_count": 26,
   "id": "748abe43",
   "metadata": {
    "execution": {
     "iopub.execute_input": "2024-01-14T14:03:47.277668Z",
     "iopub.status.busy": "2024-01-14T14:03:47.276655Z",
     "iopub.status.idle": "2024-01-14T14:03:47.292258Z",
     "shell.execute_reply": "2024-01-14T14:03:47.290759Z"
    },
    "papermill": {
     "duration": 0.039798,
     "end_time": "2024-01-14T14:03:47.295262",
     "exception": false,
     "start_time": "2024-01-14T14:03:47.255464",
     "status": "completed"
    },
    "tags": []
   },
   "outputs": [
    {
     "data": {
      "text/html": [
       "<div>\n",
       "<style scoped>\n",
       "    .dataframe tbody tr th:only-of-type {\n",
       "        vertical-align: middle;\n",
       "    }\n",
       "\n",
       "    .dataframe tbody tr th {\n",
       "        vertical-align: top;\n",
       "    }\n",
       "\n",
       "    .dataframe thead th {\n",
       "        text-align: right;\n",
       "    }\n",
       "</style>\n",
       "<table border=\"1\" class=\"dataframe\">\n",
       "  <thead>\n",
       "    <tr style=\"text-align: right;\">\n",
       "      <th></th>\n",
       "      <th>region</th>\n",
       "      <th>unMember</th>\n",
       "    </tr>\n",
       "  </thead>\n",
       "  <tbody>\n",
       "    <tr>\n",
       "      <th>0</th>\n",
       "      <td>Africa</td>\n",
       "      <td>40</td>\n",
       "    </tr>\n",
       "    <tr>\n",
       "      <th>1</th>\n",
       "      <td>Europe</td>\n",
       "      <td>40</td>\n",
       "    </tr>\n",
       "    <tr>\n",
       "      <th>2</th>\n",
       "      <td>Asia</td>\n",
       "      <td>39</td>\n",
       "    </tr>\n",
       "    <tr>\n",
       "      <th>3</th>\n",
       "      <td>North America</td>\n",
       "      <td>11</td>\n",
       "    </tr>\n",
       "    <tr>\n",
       "      <th>4</th>\n",
       "      <td>South America</td>\n",
       "      <td>9</td>\n",
       "    </tr>\n",
       "    <tr>\n",
       "      <th>5</th>\n",
       "      <td>Oceania</td>\n",
       "      <td>2</td>\n",
       "    </tr>\n",
       "  </tbody>\n",
       "</table>\n",
       "</div>"
      ],
      "text/plain": [
       "          region  unMember\n",
       "0         Africa        40\n",
       "1         Europe        40\n",
       "2           Asia        39\n",
       "3  North America        11\n",
       "4  South America         9\n",
       "5        Oceania         2"
      ]
     },
     "execution_count": 26,
     "metadata": {},
     "output_type": "execute_result"
    }
   ],
   "source": [
    "unMember = data.groupby('region')['unMember'].apply(lambda x: x.count()).sort_values(ascending=False).reset_index()\n",
    "unMember"
   ]
  },
  {
   "cell_type": "code",
   "execution_count": 27,
   "id": "669f65cc",
   "metadata": {
    "execution": {
     "iopub.execute_input": "2024-01-14T14:03:47.335945Z",
     "iopub.status.busy": "2024-01-14T14:03:47.335487Z",
     "iopub.status.idle": "2024-01-14T14:03:47.436333Z",
     "shell.execute_reply": "2024-01-14T14:03:47.434826Z"
    },
    "papermill": {
     "duration": 0.125427,
     "end_time": "2024-01-14T14:03:47.439606",
     "exception": false,
     "start_time": "2024-01-14T14:03:47.314179",
     "status": "completed"
    },
    "tags": []
   },
   "outputs": [
    {
     "data": {
      "text/html": [
       "<div>                            <div id=\"dca8c223-83a2-4ae8-83cd-3b83ee13b88a\" class=\"plotly-graph-div\" style=\"height:525px; width:100%;\"></div>            <script type=\"text/javascript\">                require([\"plotly\"], function(Plotly) {                    window.PLOTLYENV=window.PLOTLYENV || {};                                    if (document.getElementById(\"dca8c223-83a2-4ae8-83cd-3b83ee13b88a\")) {                    Plotly.newPlot(                        \"dca8c223-83a2-4ae8-83cd-3b83ee13b88a\",                        [{\"colorscale\":[[0.0,\"#636efa\"],[1.0,\"#636efa\"]],\"geo\":\"geo\",\"hovertemplate\":\"unMember=True\\u003cbr\\u003ecountry=%{location}\\u003cextra\\u003e\\u003c\\u002fextra\\u003e\",\"locationmode\":\"country names\",\"locations\":[\"India\",\"China\",\"United States\",\"Indonesia\",\"Pakistan\",\"Nigeria\",\"Brazil\",\"Bangladesh\",\"Russia\",\"Ethiopia\",\"Mexico\",\"Japan\",\"Philippines\",\"Egypt\",\"Vietnam\",\"Turkey\",\"Germany\",\"Thailand\",\"Tanzania\",\"United Kingdom\",\"France\",\"South Africa\",\"Italy\",\"Kenya\",\"Myanmar\",\"Colombia\",\"South Korea\",\"Uganda\",\"Sudan\",\"Spain\",\"Iraq\",\"Algeria\",\"Argentina\",\"Afghanistan\",\"Poland\",\"Canada\",\"Morocco\",\"Ukraine\",\"Saudi Arabia\",\"Uzbekistan\",\"Yemen\",\"Mozambique\",\"Ghana\",\"Peru\",\"Malaysia\",\"Nepal\",\"Madagascar\",\"Ivory Coast\",\"Cameroon\",\"Niger\",\"Australia\",\"Mali\",\"Burkina Faso\",\"Sri Lanka\",\"Malawi\",\"Zambia\",\"Kazakhstan\",\"Chile\",\"Romania\",\"Chad\",\"Ecuador\",\"Guatemala\",\"Senegal\",\"Netherlands\",\"Cambodia\",\"Zimbabwe\",\"Rwanda\",\"Benin\",\"Bolivia\",\"Tunisia\",\"Belgium\",\"Dominican Republic\",\"Jordan\",\"Honduras\",\"Sweden\",\"Czech Republic\",\"Azerbaijan\",\"Tajikistan\",\"Greece\",\"Portugal\",\"Hungary\",\"United Arab Emirates\",\"Belarus\",\"Israel\",\"Togo\",\"Sierra Leone\",\"Austria\",\"Switzerland\",\"Laos\",\"Nicaragua\",\"Serbia\",\"Libya\",\"Paraguay\",\"Kyrgyzstan\",\"Bulgaria\",\"Turkmenistan\",\"El Salvador\",\"Republic of the Congo\",\"Singapore\",\"Denmark\",\"Slovakia\",\"Finland\",\"Liberia\",\"Norway\",\"Palestine\",\"New Zealand\",\"Costa Rica\",\"Lebanon\",\"Ireland\",\"Mauritania\",\"Panama\",\"Kuwait\",\"Croatia\",\"Georgia\",\"Mongolia\",\"Uruguay\",\"Moldova\",\"Bosnia and Herzegovina\",\"Gambia\",\"Albania\",\"Jamaica\",\"Armenia\",\"Botswana\",\"Lithuania\",\"Namibia\",\"Gabon\",\"Lesotho\",\"Slovenia\",\"North Macedonia\",\"Latvia\",\"Bahrain\",\"Estonia\",\"Mauritius\",\"Cyprus\",\"Eswatini\",\"Comoros\",\"Luxembourg\",\"Montenegro\",\"Malta\",\"Iceland\"],\"name\":\"True\",\"showlegend\":true,\"showscale\":false,\"z\":[1,1,1,1,1,1,1,1,1,1,1,1,1,1,1,1,1,1,1,1,1,1,1,1,1,1,1,1,1,1,1,1,1,1,1,1,1,1,1,1,1,1,1,1,1,1,1,1,1,1,1,1,1,1,1,1,1,1,1,1,1,1,1,1,1,1,1,1,1,1,1,1,1,1,1,1,1,1,1,1,1,1,1,1,1,1,1,1,1,1,1,1,1,1,1,1,1,1,1,1,1,1,1,1,1,1,1,1,1,1,1,1,1,1,1,1,1,1,1,1,1,1,1,1,1,1,1,1,1,1,1,1,1,1,1,1,1,1,1,1],\"type\":\"choropleth\"},{\"colorscale\":[[0.0,\"#EF553B\"],[1.0,\"#EF553B\"]],\"geo\":\"geo\",\"hovertemplate\":\"unMember=False\\u003cbr\\u003ecountry=%{location}\\u003cextra\\u003e\\u003c\\u002fextra\\u003e\",\"locationmode\":\"country names\",\"locations\":[\"Hong Kong\"],\"name\":\"False\",\"showlegend\":true,\"showscale\":false,\"z\":[1],\"type\":\"choropleth\"}],                        {\"template\":{\"data\":{\"histogram2dcontour\":[{\"type\":\"histogram2dcontour\",\"colorbar\":{\"outlinewidth\":0,\"ticks\":\"\"},\"colorscale\":[[0.0,\"#0d0887\"],[0.1111111111111111,\"#46039f\"],[0.2222222222222222,\"#7201a8\"],[0.3333333333333333,\"#9c179e\"],[0.4444444444444444,\"#bd3786\"],[0.5555555555555556,\"#d8576b\"],[0.6666666666666666,\"#ed7953\"],[0.7777777777777778,\"#fb9f3a\"],[0.8888888888888888,\"#fdca26\"],[1.0,\"#f0f921\"]]}],\"choropleth\":[{\"type\":\"choropleth\",\"colorbar\":{\"outlinewidth\":0,\"ticks\":\"\"}}],\"histogram2d\":[{\"type\":\"histogram2d\",\"colorbar\":{\"outlinewidth\":0,\"ticks\":\"\"},\"colorscale\":[[0.0,\"#0d0887\"],[0.1111111111111111,\"#46039f\"],[0.2222222222222222,\"#7201a8\"],[0.3333333333333333,\"#9c179e\"],[0.4444444444444444,\"#bd3786\"],[0.5555555555555556,\"#d8576b\"],[0.6666666666666666,\"#ed7953\"],[0.7777777777777778,\"#fb9f3a\"],[0.8888888888888888,\"#fdca26\"],[1.0,\"#f0f921\"]]}],\"heatmap\":[{\"type\":\"heatmap\",\"colorbar\":{\"outlinewidth\":0,\"ticks\":\"\"},\"colorscale\":[[0.0,\"#0d0887\"],[0.1111111111111111,\"#46039f\"],[0.2222222222222222,\"#7201a8\"],[0.3333333333333333,\"#9c179e\"],[0.4444444444444444,\"#bd3786\"],[0.5555555555555556,\"#d8576b\"],[0.6666666666666666,\"#ed7953\"],[0.7777777777777778,\"#fb9f3a\"],[0.8888888888888888,\"#fdca26\"],[1.0,\"#f0f921\"]]}],\"heatmapgl\":[{\"type\":\"heatmapgl\",\"colorbar\":{\"outlinewidth\":0,\"ticks\":\"\"},\"colorscale\":[[0.0,\"#0d0887\"],[0.1111111111111111,\"#46039f\"],[0.2222222222222222,\"#7201a8\"],[0.3333333333333333,\"#9c179e\"],[0.4444444444444444,\"#bd3786\"],[0.5555555555555556,\"#d8576b\"],[0.6666666666666666,\"#ed7953\"],[0.7777777777777778,\"#fb9f3a\"],[0.8888888888888888,\"#fdca26\"],[1.0,\"#f0f921\"]]}],\"contourcarpet\":[{\"type\":\"contourcarpet\",\"colorbar\":{\"outlinewidth\":0,\"ticks\":\"\"}}],\"contour\":[{\"type\":\"contour\",\"colorbar\":{\"outlinewidth\":0,\"ticks\":\"\"},\"colorscale\":[[0.0,\"#0d0887\"],[0.1111111111111111,\"#46039f\"],[0.2222222222222222,\"#7201a8\"],[0.3333333333333333,\"#9c179e\"],[0.4444444444444444,\"#bd3786\"],[0.5555555555555556,\"#d8576b\"],[0.6666666666666666,\"#ed7953\"],[0.7777777777777778,\"#fb9f3a\"],[0.8888888888888888,\"#fdca26\"],[1.0,\"#f0f921\"]]}],\"surface\":[{\"type\":\"surface\",\"colorbar\":{\"outlinewidth\":0,\"ticks\":\"\"},\"colorscale\":[[0.0,\"#0d0887\"],[0.1111111111111111,\"#46039f\"],[0.2222222222222222,\"#7201a8\"],[0.3333333333333333,\"#9c179e\"],[0.4444444444444444,\"#bd3786\"],[0.5555555555555556,\"#d8576b\"],[0.6666666666666666,\"#ed7953\"],[0.7777777777777778,\"#fb9f3a\"],[0.8888888888888888,\"#fdca26\"],[1.0,\"#f0f921\"]]}],\"mesh3d\":[{\"type\":\"mesh3d\",\"colorbar\":{\"outlinewidth\":0,\"ticks\":\"\"}}],\"scatter\":[{\"fillpattern\":{\"fillmode\":\"overlay\",\"size\":10,\"solidity\":0.2},\"type\":\"scatter\"}],\"parcoords\":[{\"type\":\"parcoords\",\"line\":{\"colorbar\":{\"outlinewidth\":0,\"ticks\":\"\"}}}],\"scatterpolargl\":[{\"type\":\"scatterpolargl\",\"marker\":{\"colorbar\":{\"outlinewidth\":0,\"ticks\":\"\"}}}],\"bar\":[{\"error_x\":{\"color\":\"#2a3f5f\"},\"error_y\":{\"color\":\"#2a3f5f\"},\"marker\":{\"line\":{\"color\":\"#E5ECF6\",\"width\":0.5},\"pattern\":{\"fillmode\":\"overlay\",\"size\":10,\"solidity\":0.2}},\"type\":\"bar\"}],\"scattergeo\":[{\"type\":\"scattergeo\",\"marker\":{\"colorbar\":{\"outlinewidth\":0,\"ticks\":\"\"}}}],\"scatterpolar\":[{\"type\":\"scatterpolar\",\"marker\":{\"colorbar\":{\"outlinewidth\":0,\"ticks\":\"\"}}}],\"histogram\":[{\"marker\":{\"pattern\":{\"fillmode\":\"overlay\",\"size\":10,\"solidity\":0.2}},\"type\":\"histogram\"}],\"scattergl\":[{\"type\":\"scattergl\",\"marker\":{\"colorbar\":{\"outlinewidth\":0,\"ticks\":\"\"}}}],\"scatter3d\":[{\"type\":\"scatter3d\",\"line\":{\"colorbar\":{\"outlinewidth\":0,\"ticks\":\"\"}},\"marker\":{\"colorbar\":{\"outlinewidth\":0,\"ticks\":\"\"}}}],\"scattermapbox\":[{\"type\":\"scattermapbox\",\"marker\":{\"colorbar\":{\"outlinewidth\":0,\"ticks\":\"\"}}}],\"scatterternary\":[{\"type\":\"scatterternary\",\"marker\":{\"colorbar\":{\"outlinewidth\":0,\"ticks\":\"\"}}}],\"scattercarpet\":[{\"type\":\"scattercarpet\",\"marker\":{\"colorbar\":{\"outlinewidth\":0,\"ticks\":\"\"}}}],\"carpet\":[{\"aaxis\":{\"endlinecolor\":\"#2a3f5f\",\"gridcolor\":\"white\",\"linecolor\":\"white\",\"minorgridcolor\":\"white\",\"startlinecolor\":\"#2a3f5f\"},\"baxis\":{\"endlinecolor\":\"#2a3f5f\",\"gridcolor\":\"white\",\"linecolor\":\"white\",\"minorgridcolor\":\"white\",\"startlinecolor\":\"#2a3f5f\"},\"type\":\"carpet\"}],\"table\":[{\"cells\":{\"fill\":{\"color\":\"#EBF0F8\"},\"line\":{\"color\":\"white\"}},\"header\":{\"fill\":{\"color\":\"#C8D4E3\"},\"line\":{\"color\":\"white\"}},\"type\":\"table\"}],\"barpolar\":[{\"marker\":{\"line\":{\"color\":\"#E5ECF6\",\"width\":0.5},\"pattern\":{\"fillmode\":\"overlay\",\"size\":10,\"solidity\":0.2}},\"type\":\"barpolar\"}],\"pie\":[{\"automargin\":true,\"type\":\"pie\"}]},\"layout\":{\"autotypenumbers\":\"strict\",\"colorway\":[\"#636efa\",\"#EF553B\",\"#00cc96\",\"#ab63fa\",\"#FFA15A\",\"#19d3f3\",\"#FF6692\",\"#B6E880\",\"#FF97FF\",\"#FECB52\"],\"font\":{\"color\":\"#2a3f5f\"},\"hovermode\":\"closest\",\"hoverlabel\":{\"align\":\"left\"},\"paper_bgcolor\":\"white\",\"plot_bgcolor\":\"#E5ECF6\",\"polar\":{\"bgcolor\":\"#E5ECF6\",\"angularaxis\":{\"gridcolor\":\"white\",\"linecolor\":\"white\",\"ticks\":\"\"},\"radialaxis\":{\"gridcolor\":\"white\",\"linecolor\":\"white\",\"ticks\":\"\"}},\"ternary\":{\"bgcolor\":\"#E5ECF6\",\"aaxis\":{\"gridcolor\":\"white\",\"linecolor\":\"white\",\"ticks\":\"\"},\"baxis\":{\"gridcolor\":\"white\",\"linecolor\":\"white\",\"ticks\":\"\"},\"caxis\":{\"gridcolor\":\"white\",\"linecolor\":\"white\",\"ticks\":\"\"}},\"coloraxis\":{\"colorbar\":{\"outlinewidth\":0,\"ticks\":\"\"}},\"colorscale\":{\"sequential\":[[0.0,\"#0d0887\"],[0.1111111111111111,\"#46039f\"],[0.2222222222222222,\"#7201a8\"],[0.3333333333333333,\"#9c179e\"],[0.4444444444444444,\"#bd3786\"],[0.5555555555555556,\"#d8576b\"],[0.6666666666666666,\"#ed7953\"],[0.7777777777777778,\"#fb9f3a\"],[0.8888888888888888,\"#fdca26\"],[1.0,\"#f0f921\"]],\"sequentialminus\":[[0.0,\"#0d0887\"],[0.1111111111111111,\"#46039f\"],[0.2222222222222222,\"#7201a8\"],[0.3333333333333333,\"#9c179e\"],[0.4444444444444444,\"#bd3786\"],[0.5555555555555556,\"#d8576b\"],[0.6666666666666666,\"#ed7953\"],[0.7777777777777778,\"#fb9f3a\"],[0.8888888888888888,\"#fdca26\"],[1.0,\"#f0f921\"]],\"diverging\":[[0,\"#8e0152\"],[0.1,\"#c51b7d\"],[0.2,\"#de77ae\"],[0.3,\"#f1b6da\"],[0.4,\"#fde0ef\"],[0.5,\"#f7f7f7\"],[0.6,\"#e6f5d0\"],[0.7,\"#b8e186\"],[0.8,\"#7fbc41\"],[0.9,\"#4d9221\"],[1,\"#276419\"]]},\"xaxis\":{\"gridcolor\":\"white\",\"linecolor\":\"white\",\"ticks\":\"\",\"title\":{\"standoff\":15},\"zerolinecolor\":\"white\",\"automargin\":true,\"zerolinewidth\":2},\"yaxis\":{\"gridcolor\":\"white\",\"linecolor\":\"white\",\"ticks\":\"\",\"title\":{\"standoff\":15},\"zerolinecolor\":\"white\",\"automargin\":true,\"zerolinewidth\":2},\"scene\":{\"xaxis\":{\"backgroundcolor\":\"#E5ECF6\",\"gridcolor\":\"white\",\"linecolor\":\"white\",\"showbackground\":true,\"ticks\":\"\",\"zerolinecolor\":\"white\",\"gridwidth\":2},\"yaxis\":{\"backgroundcolor\":\"#E5ECF6\",\"gridcolor\":\"white\",\"linecolor\":\"white\",\"showbackground\":true,\"ticks\":\"\",\"zerolinecolor\":\"white\",\"gridwidth\":2},\"zaxis\":{\"backgroundcolor\":\"#E5ECF6\",\"gridcolor\":\"white\",\"linecolor\":\"white\",\"showbackground\":true,\"ticks\":\"\",\"zerolinecolor\":\"white\",\"gridwidth\":2}},\"shapedefaults\":{\"line\":{\"color\":\"#2a3f5f\"}},\"annotationdefaults\":{\"arrowcolor\":\"#2a3f5f\",\"arrowhead\":0,\"arrowwidth\":1},\"geo\":{\"bgcolor\":\"white\",\"landcolor\":\"#E5ECF6\",\"subunitcolor\":\"white\",\"showland\":true,\"showlakes\":true,\"lakecolor\":\"white\"},\"title\":{\"x\":0.05},\"mapbox\":{\"style\":\"light\"}}},\"geo\":{\"domain\":{\"x\":[0.0,1.0],\"y\":[0.0,1.0]},\"center\":{}},\"legend\":{\"title\":{\"text\":\"unMember\"},\"tracegroupgap\":0},\"title\":{\"text\":\"United Nations member\"}},                        {\"responsive\": true}                    ).then(function(){\n",
       "                            \n",
       "var gd = document.getElementById('dca8c223-83a2-4ae8-83cd-3b83ee13b88a');\n",
       "var x = new MutationObserver(function (mutations, observer) {{\n",
       "        var display = window.getComputedStyle(gd).display;\n",
       "        if (!display || display === 'none') {{\n",
       "            console.log([gd, 'removed!']);\n",
       "            Plotly.purge(gd);\n",
       "            observer.disconnect();\n",
       "        }}\n",
       "}});\n",
       "\n",
       "// Listen for the removal of the full notebook cells\n",
       "var notebookContainer = gd.closest('#notebook-container');\n",
       "if (notebookContainer) {{\n",
       "    x.observe(notebookContainer, {childList: true});\n",
       "}}\n",
       "\n",
       "// Listen for the clearing of the current output cell\n",
       "var outputEl = gd.closest('.output');\n",
       "if (outputEl) {{\n",
       "    x.observe(outputEl, {childList: true});\n",
       "}}\n",
       "\n",
       "                        })                };                });            </script>        </div>"
      ]
     },
     "metadata": {},
     "output_type": "display_data"
    }
   ],
   "source": [
    "fig_happiness_map = px.choropleth(data, locations='country', locationmode='country names',\n",
    "                                  color='unMember',\n",
    "                                  title='United Nations member',\n",
    "                                  color_continuous_scale='Viridis',\n",
    "                                  labels={'population_densityMi': 'World Happiness Index'})\n",
    "\n",
    "# Display the map\n",
    "fig_happiness_map.show()"
   ]
  }
 ],
 "metadata": {
  "kaggle": {
   "accelerator": "none",
   "dataSources": [
    {
     "datasetId": 4259875,
     "sourceId": 7337523,
     "sourceType": "datasetVersion"
    }
   ],
   "dockerImageVersionId": 30635,
   "isGpuEnabled": false,
   "isInternetEnabled": true,
   "language": "python",
   "sourceType": "notebook"
  },
  "kernelspec": {
   "display_name": "Python 3",
   "language": "python",
   "name": "python3"
  },
  "language_info": {
   "codemirror_mode": {
    "name": "ipython",
    "version": 3
   },
   "file_extension": ".py",
   "mimetype": "text/x-python",
   "name": "python",
   "nbconvert_exporter": "python",
   "pygments_lexer": "ipython3",
   "version": "3.10.12"
  },
  "papermill": {
   "default_parameters": {},
   "duration": 12.380553,
   "end_time": "2024-01-14T14:03:48.384418",
   "environment_variables": {},
   "exception": null,
   "input_path": "__notebook__.ipynb",
   "output_path": "__notebook__.ipynb",
   "parameters": {},
   "start_time": "2024-01-14T14:03:36.003865",
   "version": "2.4.0"
  }
 },
 "nbformat": 4,
 "nbformat_minor": 5
}
